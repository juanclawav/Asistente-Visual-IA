{
 "cells": [
  {
   "cell_type": "code",
   "execution_count": 51,
   "metadata": {},
   "outputs": [
    {
     "name": "stdout",
     "output_type": "stream",
     "text": [
      "Collecting llama-index-embeddings-clip\n",
      "  Using cached llama_index_embeddings_clip-0.2.0-py3-none-any.whl.metadata (810 bytes)\n",
      "Requirement already satisfied: ftfy<7.0.0,>=6.1.3 in c:\\users\\juanc\\miniconda3\\envs\\topics_2024\\lib\\site-packages (from llama-index-embeddings-clip) (6.3.1)\n",
      "Requirement already satisfied: llama-index-core<0.12.0,>=0.11.0 in c:\\users\\juanc\\miniconda3\\envs\\topics_2024\\lib\\site-packages (from llama-index-embeddings-clip) (0.11.17)\n",
      "Requirement already satisfied: pillow<11.0.0,>=10.2.0 in c:\\users\\juanc\\miniconda3\\envs\\topics_2024\\lib\\site-packages (from llama-index-embeddings-clip) (10.4.0)\n",
      "Requirement already satisfied: torch<3.0.0,>=2.1.2 in c:\\users\\juanc\\miniconda3\\envs\\topics_2024\\lib\\site-packages (from llama-index-embeddings-clip) (2.4.1)\n",
      "Collecting torchvision<0.18.0,>=0.17.0 (from llama-index-embeddings-clip)\n",
      "  Using cached torchvision-0.17.2-cp311-cp311-win_amd64.whl.metadata (6.6 kB)\n",
      "Requirement already satisfied: wcwidth in c:\\users\\juanc\\miniconda3\\envs\\topics_2024\\lib\\site-packages (from ftfy<7.0.0,>=6.1.3->llama-index-embeddings-clip) (0.2.13)\n",
      "Requirement already satisfied: PyYAML>=6.0.1 in c:\\users\\juanc\\miniconda3\\envs\\topics_2024\\lib\\site-packages (from llama-index-core<0.12.0,>=0.11.0->llama-index-embeddings-clip) (6.0.2)\n",
      "Requirement already satisfied: SQLAlchemy>=1.4.49 in c:\\users\\juanc\\miniconda3\\envs\\topics_2024\\lib\\site-packages (from SQLAlchemy[asyncio]>=1.4.49->llama-index-core<0.12.0,>=0.11.0->llama-index-embeddings-clip) (2.0.35)\n",
      "Requirement already satisfied: aiohttp<4.0.0,>=3.8.6 in c:\\users\\juanc\\miniconda3\\envs\\topics_2024\\lib\\site-packages (from llama-index-core<0.12.0,>=0.11.0->llama-index-embeddings-clip) (3.10.9)\n",
      "Requirement already satisfied: dataclasses-json in c:\\users\\juanc\\miniconda3\\envs\\topics_2024\\lib\\site-packages (from llama-index-core<0.12.0,>=0.11.0->llama-index-embeddings-clip) (0.6.7)\n",
      "Requirement already satisfied: deprecated>=1.2.9.3 in c:\\users\\juanc\\miniconda3\\envs\\topics_2024\\lib\\site-packages (from llama-index-core<0.12.0,>=0.11.0->llama-index-embeddings-clip) (1.2.14)\n",
      "Requirement already satisfied: dirtyjson<2.0.0,>=1.0.8 in c:\\users\\juanc\\miniconda3\\envs\\topics_2024\\lib\\site-packages (from llama-index-core<0.12.0,>=0.11.0->llama-index-embeddings-clip) (1.0.8)\n",
      "Requirement already satisfied: fsspec>=2023.5.0 in c:\\users\\juanc\\miniconda3\\envs\\topics_2024\\lib\\site-packages (from llama-index-core<0.12.0,>=0.11.0->llama-index-embeddings-clip) (2024.9.0)\n",
      "Requirement already satisfied: httpx in c:\\users\\juanc\\miniconda3\\envs\\topics_2024\\lib\\site-packages (from llama-index-core<0.12.0,>=0.11.0->llama-index-embeddings-clip) (0.27.2)\n",
      "Requirement already satisfied: nest-asyncio<2.0.0,>=1.5.8 in c:\\users\\juanc\\miniconda3\\envs\\topics_2024\\lib\\site-packages (from llama-index-core<0.12.0,>=0.11.0->llama-index-embeddings-clip) (1.6.0)\n",
      "Requirement already satisfied: networkx>=3.0 in c:\\users\\juanc\\miniconda3\\envs\\topics_2024\\lib\\site-packages (from llama-index-core<0.12.0,>=0.11.0->llama-index-embeddings-clip) (3.3)\n",
      "Requirement already satisfied: nltk>3.8.1 in c:\\users\\juanc\\miniconda3\\envs\\topics_2024\\lib\\site-packages (from llama-index-core<0.12.0,>=0.11.0->llama-index-embeddings-clip) (3.9.1)\n",
      "Requirement already satisfied: numpy<2.0.0 in c:\\users\\juanc\\miniconda3\\envs\\topics_2024\\lib\\site-packages (from llama-index-core<0.12.0,>=0.11.0->llama-index-embeddings-clip) (1.26.4)\n",
      "Requirement already satisfied: pydantic<3.0.0,>=2.7.0 in c:\\users\\juanc\\miniconda3\\envs\\topics_2024\\lib\\site-packages (from llama-index-core<0.12.0,>=0.11.0->llama-index-embeddings-clip) (2.9.2)\n",
      "Requirement already satisfied: requests>=2.31.0 in c:\\users\\juanc\\miniconda3\\envs\\topics_2024\\lib\\site-packages (from llama-index-core<0.12.0,>=0.11.0->llama-index-embeddings-clip) (2.32.3)\n",
      "Requirement already satisfied: tenacity!=8.4.0,<9.0.0,>=8.2.0 in c:\\users\\juanc\\miniconda3\\envs\\topics_2024\\lib\\site-packages (from llama-index-core<0.12.0,>=0.11.0->llama-index-embeddings-clip) (8.5.0)\n",
      "Requirement already satisfied: tiktoken>=0.3.3 in c:\\users\\juanc\\miniconda3\\envs\\topics_2024\\lib\\site-packages (from llama-index-core<0.12.0,>=0.11.0->llama-index-embeddings-clip) (0.7.0)\n",
      "Requirement already satisfied: tqdm<5.0.0,>=4.66.1 in c:\\users\\juanc\\miniconda3\\envs\\topics_2024\\lib\\site-packages (from llama-index-core<0.12.0,>=0.11.0->llama-index-embeddings-clip) (4.66.5)\n",
      "Requirement already satisfied: typing-extensions>=4.5.0 in c:\\users\\juanc\\miniconda3\\envs\\topics_2024\\lib\\site-packages (from llama-index-core<0.12.0,>=0.11.0->llama-index-embeddings-clip) (4.12.2)\n",
      "Requirement already satisfied: typing-inspect>=0.8.0 in c:\\users\\juanc\\miniconda3\\envs\\topics_2024\\lib\\site-packages (from llama-index-core<0.12.0,>=0.11.0->llama-index-embeddings-clip) (0.9.0)\n",
      "Requirement already satisfied: wrapt in c:\\users\\juanc\\miniconda3\\envs\\topics_2024\\lib\\site-packages (from llama-index-core<0.12.0,>=0.11.0->llama-index-embeddings-clip) (1.16.0)\n",
      "Requirement already satisfied: filelock in c:\\users\\juanc\\miniconda3\\envs\\topics_2024\\lib\\site-packages (from torch<3.0.0,>=2.1.2->llama-index-embeddings-clip) (3.16.1)\n",
      "Requirement already satisfied: sympy in c:\\users\\juanc\\miniconda3\\envs\\topics_2024\\lib\\site-packages (from torch<3.0.0,>=2.1.2->llama-index-embeddings-clip) (1.13.3)\n",
      "Requirement already satisfied: jinja2 in c:\\users\\juanc\\miniconda3\\envs\\topics_2024\\lib\\site-packages (from torch<3.0.0,>=2.1.2->llama-index-embeddings-clip) (3.1.4)\n",
      "Collecting torch<3.0.0,>=2.1.2 (from llama-index-embeddings-clip)\n",
      "  Using cached torch-2.2.2-cp311-cp311-win_amd64.whl.metadata (26 kB)\n",
      "Requirement already satisfied: aiohappyeyeballs>=2.3.0 in c:\\users\\juanc\\miniconda3\\envs\\topics_2024\\lib\\site-packages (from aiohttp<4.0.0,>=3.8.6->llama-index-core<0.12.0,>=0.11.0->llama-index-embeddings-clip) (2.4.3)\n",
      "Requirement already satisfied: aiosignal>=1.1.2 in c:\\users\\juanc\\miniconda3\\envs\\topics_2024\\lib\\site-packages (from aiohttp<4.0.0,>=3.8.6->llama-index-core<0.12.0,>=0.11.0->llama-index-embeddings-clip) (1.3.1)\n",
      "Requirement already satisfied: attrs>=17.3.0 in c:\\users\\juanc\\miniconda3\\envs\\topics_2024\\lib\\site-packages (from aiohttp<4.0.0,>=3.8.6->llama-index-core<0.12.0,>=0.11.0->llama-index-embeddings-clip) (24.2.0)\n",
      "Requirement already satisfied: frozenlist>=1.1.1 in c:\\users\\juanc\\miniconda3\\envs\\topics_2024\\lib\\site-packages (from aiohttp<4.0.0,>=3.8.6->llama-index-core<0.12.0,>=0.11.0->llama-index-embeddings-clip) (1.4.1)\n",
      "Requirement already satisfied: multidict<7.0,>=4.5 in c:\\users\\juanc\\miniconda3\\envs\\topics_2024\\lib\\site-packages (from aiohttp<4.0.0,>=3.8.6->llama-index-core<0.12.0,>=0.11.0->llama-index-embeddings-clip) (6.1.0)\n",
      "Requirement already satisfied: yarl<2.0,>=1.12.0 in c:\\users\\juanc\\miniconda3\\envs\\topics_2024\\lib\\site-packages (from aiohttp<4.0.0,>=3.8.6->llama-index-core<0.12.0,>=0.11.0->llama-index-embeddings-clip) (1.13.1)\n",
      "Requirement already satisfied: click in c:\\users\\juanc\\miniconda3\\envs\\topics_2024\\lib\\site-packages (from nltk>3.8.1->llama-index-core<0.12.0,>=0.11.0->llama-index-embeddings-clip) (8.1.7)\n",
      "Requirement already satisfied: joblib in c:\\users\\juanc\\miniconda3\\envs\\topics_2024\\lib\\site-packages (from nltk>3.8.1->llama-index-core<0.12.0,>=0.11.0->llama-index-embeddings-clip) (1.4.2)\n",
      "Requirement already satisfied: regex>=2021.8.3 in c:\\users\\juanc\\miniconda3\\envs\\topics_2024\\lib\\site-packages (from nltk>3.8.1->llama-index-core<0.12.0,>=0.11.0->llama-index-embeddings-clip) (2024.9.11)\n",
      "Requirement already satisfied: annotated-types>=0.6.0 in c:\\users\\juanc\\miniconda3\\envs\\topics_2024\\lib\\site-packages (from pydantic<3.0.0,>=2.7.0->llama-index-core<0.12.0,>=0.11.0->llama-index-embeddings-clip) (0.7.0)\n",
      "Requirement already satisfied: pydantic-core==2.23.4 in c:\\users\\juanc\\miniconda3\\envs\\topics_2024\\lib\\site-packages (from pydantic<3.0.0,>=2.7.0->llama-index-core<0.12.0,>=0.11.0->llama-index-embeddings-clip) (2.23.4)\n",
      "Requirement already satisfied: charset-normalizer<4,>=2 in c:\\users\\juanc\\miniconda3\\envs\\topics_2024\\lib\\site-packages (from requests>=2.31.0->llama-index-core<0.12.0,>=0.11.0->llama-index-embeddings-clip) (3.3.2)\n",
      "Requirement already satisfied: idna<4,>=2.5 in c:\\users\\juanc\\miniconda3\\envs\\topics_2024\\lib\\site-packages (from requests>=2.31.0->llama-index-core<0.12.0,>=0.11.0->llama-index-embeddings-clip) (3.10)\n",
      "Requirement already satisfied: urllib3<3,>=1.21.1 in c:\\users\\juanc\\miniconda3\\envs\\topics_2024\\lib\\site-packages (from requests>=2.31.0->llama-index-core<0.12.0,>=0.11.0->llama-index-embeddings-clip) (2.2.3)\n",
      "Requirement already satisfied: certifi>=2017.4.17 in c:\\users\\juanc\\miniconda3\\envs\\topics_2024\\lib\\site-packages (from requests>=2.31.0->llama-index-core<0.12.0,>=0.11.0->llama-index-embeddings-clip) (2024.8.30)\n",
      "Requirement already satisfied: greenlet!=0.4.17 in c:\\users\\juanc\\miniconda3\\envs\\topics_2024\\lib\\site-packages (from SQLAlchemy>=1.4.49->SQLAlchemy[asyncio]>=1.4.49->llama-index-core<0.12.0,>=0.11.0->llama-index-embeddings-clip) (3.1.1)\n",
      "Requirement already satisfied: colorama in c:\\users\\juanc\\miniconda3\\envs\\topics_2024\\lib\\site-packages (from tqdm<5.0.0,>=4.66.1->llama-index-core<0.12.0,>=0.11.0->llama-index-embeddings-clip) (0.4.6)\n",
      "Requirement already satisfied: mypy-extensions>=0.3.0 in c:\\users\\juanc\\miniconda3\\envs\\topics_2024\\lib\\site-packages (from typing-inspect>=0.8.0->llama-index-core<0.12.0,>=0.11.0->llama-index-embeddings-clip) (1.0.0)\n",
      "Requirement already satisfied: marshmallow<4.0.0,>=3.18.0 in c:\\users\\juanc\\miniconda3\\envs\\topics_2024\\lib\\site-packages (from dataclasses-json->llama-index-core<0.12.0,>=0.11.0->llama-index-embeddings-clip) (3.22.0)\n",
      "Requirement already satisfied: anyio in c:\\users\\juanc\\miniconda3\\envs\\topics_2024\\lib\\site-packages (from httpx->llama-index-core<0.12.0,>=0.11.0->llama-index-embeddings-clip) (4.6.0)\n",
      "Requirement already satisfied: httpcore==1.* in c:\\users\\juanc\\miniconda3\\envs\\topics_2024\\lib\\site-packages (from httpx->llama-index-core<0.12.0,>=0.11.0->llama-index-embeddings-clip) (1.0.6)\n",
      "Requirement already satisfied: sniffio in c:\\users\\juanc\\miniconda3\\envs\\topics_2024\\lib\\site-packages (from httpx->llama-index-core<0.12.0,>=0.11.0->llama-index-embeddings-clip) (1.3.1)\n",
      "Requirement already satisfied: h11<0.15,>=0.13 in c:\\users\\juanc\\miniconda3\\envs\\topics_2024\\lib\\site-packages (from httpcore==1.*->httpx->llama-index-core<0.12.0,>=0.11.0->llama-index-embeddings-clip) (0.14.0)\n",
      "Requirement already satisfied: MarkupSafe>=2.0 in c:\\users\\juanc\\miniconda3\\envs\\topics_2024\\lib\\site-packages (from jinja2->torch<3.0.0,>=2.1.2->llama-index-embeddings-clip) (2.1.5)\n",
      "Requirement already satisfied: mpmath<1.4,>=1.1.0 in c:\\users\\juanc\\miniconda3\\envs\\topics_2024\\lib\\site-packages (from sympy->torch<3.0.0,>=2.1.2->llama-index-embeddings-clip) (1.3.0)\n",
      "Requirement already satisfied: packaging>=17.0 in c:\\users\\juanc\\miniconda3\\envs\\topics_2024\\lib\\site-packages (from marshmallow<4.0.0,>=3.18.0->dataclasses-json->llama-index-core<0.12.0,>=0.11.0->llama-index-embeddings-clip) (24.1)\n",
      "Using cached llama_index_embeddings_clip-0.2.0-py3-none-any.whl (3.2 kB)\n",
      "Using cached torchvision-0.17.2-cp311-cp311-win_amd64.whl (1.2 MB)\n",
      "Using cached torch-2.2.2-cp311-cp311-win_amd64.whl (198.6 MB)\n",
      "Installing collected packages: torch, torchvision, llama-index-embeddings-clip\n",
      "  Attempting uninstall: torch\n",
      "    Found existing installation: torch 2.4.1\n",
      "    Uninstalling torch-2.4.1:\n",
      "      Successfully uninstalled torch-2.4.1\n",
      "  Attempting uninstall: torchvision\n",
      "    Found existing installation: torchvision 0.19.1\n",
      "    Uninstalling torchvision-0.19.1:\n",
      "      Successfully uninstalled torchvision-0.19.1\n",
      "Successfully installed llama-index-embeddings-clip-0.2.0 torch-2.2.2 torchvision-0.17.2\n",
      "Note: you may need to restart the kernel to use updated packages.\n"
     ]
    },
    {
     "name": "stderr",
     "output_type": "stream",
     "text": [
      "WARNING: Ignoring invalid distribution ~orch (c:\\Users\\juanc\\miniconda3\\envs\\topics_2024\\Lib\\site-packages)\n",
      "WARNING: Ignoring invalid distribution ~orch (c:\\Users\\juanc\\miniconda3\\envs\\topics_2024\\Lib\\site-packages)\n",
      "WARNING: Ignoring invalid distribution ~orch (c:\\Users\\juanc\\miniconda3\\envs\\topics_2024\\Lib\\site-packages)\n"
     ]
    }
   ],
   "source": [
    "%pip install llama-index-embeddings-clip"
   ]
  },
  {
   "cell_type": "code",
   "execution_count": 3,
   "metadata": {},
   "outputs": [
    {
     "name": "stdout",
     "output_type": "stream",
     "text": [
      "Requirement already satisfied: llama-index-multi-modal-llms-openai in c:\\users\\juanc\\miniconda3\\envs\\topics_2024\\lib\\site-packages (0.2.2)\n",
      "Requirement already satisfied: llama-index-core<0.12.0,>=0.11.0 in c:\\users\\juanc\\miniconda3\\envs\\topics_2024\\lib\\site-packages (from llama-index-multi-modal-llms-openai) (0.11.17)\n",
      "Requirement already satisfied: llama-index-llms-openai<0.3.0,>=0.2.11 in c:\\users\\juanc\\miniconda3\\envs\\topics_2024\\lib\\site-packages (from llama-index-multi-modal-llms-openai) (0.2.13)\n",
      "Requirement already satisfied: PyYAML>=6.0.1 in c:\\users\\juanc\\miniconda3\\envs\\topics_2024\\lib\\site-packages (from llama-index-core<0.12.0,>=0.11.0->llama-index-multi-modal-llms-openai) (6.0.2)\n",
      "Requirement already satisfied: SQLAlchemy>=1.4.49 in c:\\users\\juanc\\miniconda3\\envs\\topics_2024\\lib\\site-packages (from SQLAlchemy[asyncio]>=1.4.49->llama-index-core<0.12.0,>=0.11.0->llama-index-multi-modal-llms-openai) (2.0.35)\n",
      "Requirement already satisfied: aiohttp<4.0.0,>=3.8.6 in c:\\users\\juanc\\miniconda3\\envs\\topics_2024\\lib\\site-packages (from llama-index-core<0.12.0,>=0.11.0->llama-index-multi-modal-llms-openai) (3.10.9)\n",
      "Requirement already satisfied: dataclasses-json in c:\\users\\juanc\\miniconda3\\envs\\topics_2024\\lib\\site-packages (from llama-index-core<0.12.0,>=0.11.0->llama-index-multi-modal-llms-openai) (0.6.7)\n",
      "Requirement already satisfied: deprecated>=1.2.9.3 in c:\\users\\juanc\\miniconda3\\envs\\topics_2024\\lib\\site-packages (from llama-index-core<0.12.0,>=0.11.0->llama-index-multi-modal-llms-openai) (1.2.14)\n",
      "Requirement already satisfied: dirtyjson<2.0.0,>=1.0.8 in c:\\users\\juanc\\miniconda3\\envs\\topics_2024\\lib\\site-packages (from llama-index-core<0.12.0,>=0.11.0->llama-index-multi-modal-llms-openai) (1.0.8)\n",
      "Requirement already satisfied: fsspec>=2023.5.0 in c:\\users\\juanc\\miniconda3\\envs\\topics_2024\\lib\\site-packages (from llama-index-core<0.12.0,>=0.11.0->llama-index-multi-modal-llms-openai) (2024.9.0)\n",
      "Requirement already satisfied: httpx in c:\\users\\juanc\\miniconda3\\envs\\topics_2024\\lib\\site-packages (from llama-index-core<0.12.0,>=0.11.0->llama-index-multi-modal-llms-openai) (0.27.2)\n",
      "Requirement already satisfied: nest-asyncio<2.0.0,>=1.5.8 in c:\\users\\juanc\\miniconda3\\envs\\topics_2024\\lib\\site-packages (from llama-index-core<0.12.0,>=0.11.0->llama-index-multi-modal-llms-openai) (1.6.0)\n",
      "Requirement already satisfied: networkx>=3.0 in c:\\users\\juanc\\miniconda3\\envs\\topics_2024\\lib\\site-packages (from llama-index-core<0.12.0,>=0.11.0->llama-index-multi-modal-llms-openai) (3.3)\n",
      "Requirement already satisfied: nltk>3.8.1 in c:\\users\\juanc\\miniconda3\\envs\\topics_2024\\lib\\site-packages (from llama-index-core<0.12.0,>=0.11.0->llama-index-multi-modal-llms-openai) (3.9.1)\n",
      "Requirement already satisfied: numpy<2.0.0 in c:\\users\\juanc\\miniconda3\\envs\\topics_2024\\lib\\site-packages (from llama-index-core<0.12.0,>=0.11.0->llama-index-multi-modal-llms-openai) (1.26.4)\n",
      "Requirement already satisfied: pillow>=9.0.0 in c:\\users\\juanc\\miniconda3\\envs\\topics_2024\\lib\\site-packages (from llama-index-core<0.12.0,>=0.11.0->llama-index-multi-modal-llms-openai) (10.4.0)\n",
      "Requirement already satisfied: pydantic<3.0.0,>=2.7.0 in c:\\users\\juanc\\miniconda3\\envs\\topics_2024\\lib\\site-packages (from llama-index-core<0.12.0,>=0.11.0->llama-index-multi-modal-llms-openai) (2.9.2)\n",
      "Requirement already satisfied: requests>=2.31.0 in c:\\users\\juanc\\miniconda3\\envs\\topics_2024\\lib\\site-packages (from llama-index-core<0.12.0,>=0.11.0->llama-index-multi-modal-llms-openai) (2.32.3)\n",
      "Requirement already satisfied: tenacity!=8.4.0,<9.0.0,>=8.2.0 in c:\\users\\juanc\\miniconda3\\envs\\topics_2024\\lib\\site-packages (from llama-index-core<0.12.0,>=0.11.0->llama-index-multi-modal-llms-openai) (8.5.0)\n",
      "Requirement already satisfied: tiktoken>=0.3.3 in c:\\users\\juanc\\miniconda3\\envs\\topics_2024\\lib\\site-packages (from llama-index-core<0.12.0,>=0.11.0->llama-index-multi-modal-llms-openai) (0.7.0)\n",
      "Requirement already satisfied: tqdm<5.0.0,>=4.66.1 in c:\\users\\juanc\\miniconda3\\envs\\topics_2024\\lib\\site-packages (from llama-index-core<0.12.0,>=0.11.0->llama-index-multi-modal-llms-openai) (4.66.5)\n",
      "Requirement already satisfied: typing-extensions>=4.5.0 in c:\\users\\juanc\\miniconda3\\envs\\topics_2024\\lib\\site-packages (from llama-index-core<0.12.0,>=0.11.0->llama-index-multi-modal-llms-openai) (4.12.2)\n",
      "Requirement already satisfied: typing-inspect>=0.8.0 in c:\\users\\juanc\\miniconda3\\envs\\topics_2024\\lib\\site-packages (from llama-index-core<0.12.0,>=0.11.0->llama-index-multi-modal-llms-openai) (0.9.0)\n",
      "Requirement already satisfied: wrapt in c:\\users\\juanc\\miniconda3\\envs\\topics_2024\\lib\\site-packages (from llama-index-core<0.12.0,>=0.11.0->llama-index-multi-modal-llms-openai) (1.16.0)\n",
      "Requirement already satisfied: openai<2.0.0,>=1.40.0 in c:\\users\\juanc\\miniconda3\\envs\\topics_2024\\lib\\site-packages (from llama-index-llms-openai<0.3.0,>=0.2.11->llama-index-multi-modal-llms-openai) (1.52.0)\n",
      "Requirement already satisfied: aiohappyeyeballs>=2.3.0 in c:\\users\\juanc\\miniconda3\\envs\\topics_2024\\lib\\site-packages (from aiohttp<4.0.0,>=3.8.6->llama-index-core<0.12.0,>=0.11.0->llama-index-multi-modal-llms-openai) (2.4.3)\n",
      "Requirement already satisfied: aiosignal>=1.1.2 in c:\\users\\juanc\\miniconda3\\envs\\topics_2024\\lib\\site-packages (from aiohttp<4.0.0,>=3.8.6->llama-index-core<0.12.0,>=0.11.0->llama-index-multi-modal-llms-openai) (1.3.1)\n",
      "Requirement already satisfied: attrs>=17.3.0 in c:\\users\\juanc\\miniconda3\\envs\\topics_2024\\lib\\site-packages (from aiohttp<4.0.0,>=3.8.6->llama-index-core<0.12.0,>=0.11.0->llama-index-multi-modal-llms-openai) (24.2.0)\n",
      "Requirement already satisfied: frozenlist>=1.1.1 in c:\\users\\juanc\\miniconda3\\envs\\topics_2024\\lib\\site-packages (from aiohttp<4.0.0,>=3.8.6->llama-index-core<0.12.0,>=0.11.0->llama-index-multi-modal-llms-openai) (1.4.1)\n",
      "Requirement already satisfied: multidict<7.0,>=4.5 in c:\\users\\juanc\\miniconda3\\envs\\topics_2024\\lib\\site-packages (from aiohttp<4.0.0,>=3.8.6->llama-index-core<0.12.0,>=0.11.0->llama-index-multi-modal-llms-openai) (6.1.0)\n",
      "Requirement already satisfied: yarl<2.0,>=1.12.0 in c:\\users\\juanc\\miniconda3\\envs\\topics_2024\\lib\\site-packages (from aiohttp<4.0.0,>=3.8.6->llama-index-core<0.12.0,>=0.11.0->llama-index-multi-modal-llms-openai) (1.13.1)\n",
      "Requirement already satisfied: click in c:\\users\\juanc\\miniconda3\\envs\\topics_2024\\lib\\site-packages (from nltk>3.8.1->llama-index-core<0.12.0,>=0.11.0->llama-index-multi-modal-llms-openai) (8.1.7)\n",
      "Requirement already satisfied: joblib in c:\\users\\juanc\\miniconda3\\envs\\topics_2024\\lib\\site-packages (from nltk>3.8.1->llama-index-core<0.12.0,>=0.11.0->llama-index-multi-modal-llms-openai) (1.4.2)\n",
      "Requirement already satisfied: regex>=2021.8.3 in c:\\users\\juanc\\miniconda3\\envs\\topics_2024\\lib\\site-packages (from nltk>3.8.1->llama-index-core<0.12.0,>=0.11.0->llama-index-multi-modal-llms-openai) (2024.9.11)\n",
      "Requirement already satisfied: anyio<5,>=3.5.0 in c:\\users\\juanc\\miniconda3\\envs\\topics_2024\\lib\\site-packages (from openai<2.0.0,>=1.40.0->llama-index-llms-openai<0.3.0,>=0.2.11->llama-index-multi-modal-llms-openai) (4.6.0)\n",
      "Requirement already satisfied: distro<2,>=1.7.0 in c:\\users\\juanc\\miniconda3\\envs\\topics_2024\\lib\\site-packages (from openai<2.0.0,>=1.40.0->llama-index-llms-openai<0.3.0,>=0.2.11->llama-index-multi-modal-llms-openai) (1.9.0)\n",
      "Requirement already satisfied: jiter<1,>=0.4.0 in c:\\users\\juanc\\miniconda3\\envs\\topics_2024\\lib\\site-packages (from openai<2.0.0,>=1.40.0->llama-index-llms-openai<0.3.0,>=0.2.11->llama-index-multi-modal-llms-openai) (0.5.0)\n",
      "Requirement already satisfied: sniffio in c:\\users\\juanc\\miniconda3\\envs\\topics_2024\\lib\\site-packages (from openai<2.0.0,>=1.40.0->llama-index-llms-openai<0.3.0,>=0.2.11->llama-index-multi-modal-llms-openai) (1.3.1)\n",
      "Requirement already satisfied: certifi in c:\\users\\juanc\\miniconda3\\envs\\topics_2024\\lib\\site-packages (from httpx->llama-index-core<0.12.0,>=0.11.0->llama-index-multi-modal-llms-openai) (2024.8.30)\n",
      "Requirement already satisfied: httpcore==1.* in c:\\users\\juanc\\miniconda3\\envs\\topics_2024\\lib\\site-packages (from httpx->llama-index-core<0.12.0,>=0.11.0->llama-index-multi-modal-llms-openai) (1.0.6)\n",
      "Requirement already satisfied: idna in c:\\users\\juanc\\miniconda3\\envs\\topics_2024\\lib\\site-packages (from httpx->llama-index-core<0.12.0,>=0.11.0->llama-index-multi-modal-llms-openai) (3.10)\n",
      "Requirement already satisfied: h11<0.15,>=0.13 in c:\\users\\juanc\\miniconda3\\envs\\topics_2024\\lib\\site-packages (from httpcore==1.*->httpx->llama-index-core<0.12.0,>=0.11.0->llama-index-multi-modal-llms-openai) (0.14.0)\n",
      "Requirement already satisfied: annotated-types>=0.6.0 in c:\\users\\juanc\\miniconda3\\envs\\topics_2024\\lib\\site-packages (from pydantic<3.0.0,>=2.7.0->llama-index-core<0.12.0,>=0.11.0->llama-index-multi-modal-llms-openai) (0.7.0)\n",
      "Requirement already satisfied: pydantic-core==2.23.4 in c:\\users\\juanc\\miniconda3\\envs\\topics_2024\\lib\\site-packages (from pydantic<3.0.0,>=2.7.0->llama-index-core<0.12.0,>=0.11.0->llama-index-multi-modal-llms-openai) (2.23.4)\n",
      "Requirement already satisfied: charset-normalizer<4,>=2 in c:\\users\\juanc\\miniconda3\\envs\\topics_2024\\lib\\site-packages (from requests>=2.31.0->llama-index-core<0.12.0,>=0.11.0->llama-index-multi-modal-llms-openai) (3.3.2)\n",
      "Requirement already satisfied: urllib3<3,>=1.21.1 in c:\\users\\juanc\\miniconda3\\envs\\topics_2024\\lib\\site-packages (from requests>=2.31.0->llama-index-core<0.12.0,>=0.11.0->llama-index-multi-modal-llms-openai) (2.2.3)\n",
      "Requirement already satisfied: greenlet!=0.4.17 in c:\\users\\juanc\\miniconda3\\envs\\topics_2024\\lib\\site-packages (from SQLAlchemy>=1.4.49->SQLAlchemy[asyncio]>=1.4.49->llama-index-core<0.12.0,>=0.11.0->llama-index-multi-modal-llms-openai) (3.1.1)\n",
      "Requirement already satisfied: colorama in c:\\users\\juanc\\miniconda3\\envs\\topics_2024\\lib\\site-packages (from tqdm<5.0.0,>=4.66.1->llama-index-core<0.12.0,>=0.11.0->llama-index-multi-modal-llms-openai) (0.4.6)\n",
      "Requirement already satisfied: mypy-extensions>=0.3.0 in c:\\users\\juanc\\miniconda3\\envs\\topics_2024\\lib\\site-packages (from typing-inspect>=0.8.0->llama-index-core<0.12.0,>=0.11.0->llama-index-multi-modal-llms-openai) (1.0.0)\n",
      "Requirement already satisfied: marshmallow<4.0.0,>=3.18.0 in c:\\users\\juanc\\miniconda3\\envs\\topics_2024\\lib\\site-packages (from dataclasses-json->llama-index-core<0.12.0,>=0.11.0->llama-index-multi-modal-llms-openai) (3.22.0)\n",
      "Requirement already satisfied: packaging>=17.0 in c:\\users\\juanc\\miniconda3\\envs\\topics_2024\\lib\\site-packages (from marshmallow<4.0.0,>=3.18.0->dataclasses-json->llama-index-core<0.12.0,>=0.11.0->llama-index-multi-modal-llms-openai) (24.1)\n",
      "Note: you may need to restart the kernel to use updated packages.\n"
     ]
    },
    {
     "name": "stderr",
     "output_type": "stream",
     "text": [
      "WARNING: Ignoring invalid distribution ~orch (c:\\Users\\juanc\\miniconda3\\envs\\topics_2024\\Lib\\site-packages)\n",
      "WARNING: Ignoring invalid distribution ~orch (c:\\Users\\juanc\\miniconda3\\envs\\topics_2024\\Lib\\site-packages)\n",
      "WARNING: Ignoring invalid distribution ~orch (c:\\Users\\juanc\\miniconda3\\envs\\topics_2024\\Lib\\site-packages)\n"
     ]
    },
    {
     "name": "stdout",
     "output_type": "stream",
     "text": [
      "Collecting llama-index-vector-stores-qdrant\n",
      "  Downloading llama_index_vector_stores_qdrant-0.3.3-py3-none-any.whl.metadata (767 bytes)\n",
      "Requirement already satisfied: grpcio<2.0.0,>=1.60.0 in c:\\users\\juanc\\miniconda3\\envs\\topics_2024\\lib\\site-packages (from llama-index-vector-stores-qdrant) (1.67.0)\n",
      "Requirement already satisfied: llama-index-core<0.12.0,>=0.11.0 in c:\\users\\juanc\\miniconda3\\envs\\topics_2024\\lib\\site-packages (from llama-index-vector-stores-qdrant) (0.11.17)\n",
      "Requirement already satisfied: qdrant-client>=1.7.1 in c:\\users\\juanc\\miniconda3\\envs\\topics_2024\\lib\\site-packages (from llama-index-vector-stores-qdrant) (1.12.0)\n",
      "Requirement already satisfied: PyYAML>=6.0.1 in c:\\users\\juanc\\miniconda3\\envs\\topics_2024\\lib\\site-packages (from llama-index-core<0.12.0,>=0.11.0->llama-index-vector-stores-qdrant) (6.0.2)\n",
      "Requirement already satisfied: SQLAlchemy>=1.4.49 in c:\\users\\juanc\\miniconda3\\envs\\topics_2024\\lib\\site-packages (from SQLAlchemy[asyncio]>=1.4.49->llama-index-core<0.12.0,>=0.11.0->llama-index-vector-stores-qdrant) (2.0.35)\n",
      "Requirement already satisfied: aiohttp<4.0.0,>=3.8.6 in c:\\users\\juanc\\miniconda3\\envs\\topics_2024\\lib\\site-packages (from llama-index-core<0.12.0,>=0.11.0->llama-index-vector-stores-qdrant) (3.10.9)\n",
      "Requirement already satisfied: dataclasses-json in c:\\users\\juanc\\miniconda3\\envs\\topics_2024\\lib\\site-packages (from llama-index-core<0.12.0,>=0.11.0->llama-index-vector-stores-qdrant) (0.6.7)\n",
      "Requirement already satisfied: deprecated>=1.2.9.3 in c:\\users\\juanc\\miniconda3\\envs\\topics_2024\\lib\\site-packages (from llama-index-core<0.12.0,>=0.11.0->llama-index-vector-stores-qdrant) (1.2.14)\n",
      "Requirement already satisfied: dirtyjson<2.0.0,>=1.0.8 in c:\\users\\juanc\\miniconda3\\envs\\topics_2024\\lib\\site-packages (from llama-index-core<0.12.0,>=0.11.0->llama-index-vector-stores-qdrant) (1.0.8)\n",
      "Requirement already satisfied: fsspec>=2023.5.0 in c:\\users\\juanc\\miniconda3\\envs\\topics_2024\\lib\\site-packages (from llama-index-core<0.12.0,>=0.11.0->llama-index-vector-stores-qdrant) (2024.9.0)\n",
      "Requirement already satisfied: httpx in c:\\users\\juanc\\miniconda3\\envs\\topics_2024\\lib\\site-packages (from llama-index-core<0.12.0,>=0.11.0->llama-index-vector-stores-qdrant) (0.27.2)\n",
      "Requirement already satisfied: nest-asyncio<2.0.0,>=1.5.8 in c:\\users\\juanc\\miniconda3\\envs\\topics_2024\\lib\\site-packages (from llama-index-core<0.12.0,>=0.11.0->llama-index-vector-stores-qdrant) (1.6.0)\n",
      "Requirement already satisfied: networkx>=3.0 in c:\\users\\juanc\\miniconda3\\envs\\topics_2024\\lib\\site-packages (from llama-index-core<0.12.0,>=0.11.0->llama-index-vector-stores-qdrant) (3.3)\n",
      "Requirement already satisfied: nltk>3.8.1 in c:\\users\\juanc\\miniconda3\\envs\\topics_2024\\lib\\site-packages (from llama-index-core<0.12.0,>=0.11.0->llama-index-vector-stores-qdrant) (3.9.1)\n",
      "Requirement already satisfied: numpy<2.0.0 in c:\\users\\juanc\\miniconda3\\envs\\topics_2024\\lib\\site-packages (from llama-index-core<0.12.0,>=0.11.0->llama-index-vector-stores-qdrant) (1.26.4)\n",
      "Requirement already satisfied: pillow>=9.0.0 in c:\\users\\juanc\\miniconda3\\envs\\topics_2024\\lib\\site-packages (from llama-index-core<0.12.0,>=0.11.0->llama-index-vector-stores-qdrant) (10.4.0)\n",
      "Requirement already satisfied: pydantic<3.0.0,>=2.7.0 in c:\\users\\juanc\\miniconda3\\envs\\topics_2024\\lib\\site-packages (from llama-index-core<0.12.0,>=0.11.0->llama-index-vector-stores-qdrant) (2.9.2)\n",
      "Requirement already satisfied: requests>=2.31.0 in c:\\users\\juanc\\miniconda3\\envs\\topics_2024\\lib\\site-packages (from llama-index-core<0.12.0,>=0.11.0->llama-index-vector-stores-qdrant) (2.32.3)\n",
      "Requirement already satisfied: tenacity!=8.4.0,<9.0.0,>=8.2.0 in c:\\users\\juanc\\miniconda3\\envs\\topics_2024\\lib\\site-packages (from llama-index-core<0.12.0,>=0.11.0->llama-index-vector-stores-qdrant) (8.5.0)\n",
      "Requirement already satisfied: tiktoken>=0.3.3 in c:\\users\\juanc\\miniconda3\\envs\\topics_2024\\lib\\site-packages (from llama-index-core<0.12.0,>=0.11.0->llama-index-vector-stores-qdrant) (0.7.0)\n",
      "Requirement already satisfied: tqdm<5.0.0,>=4.66.1 in c:\\users\\juanc\\miniconda3\\envs\\topics_2024\\lib\\site-packages (from llama-index-core<0.12.0,>=0.11.0->llama-index-vector-stores-qdrant) (4.66.5)\n",
      "Requirement already satisfied: typing-extensions>=4.5.0 in c:\\users\\juanc\\miniconda3\\envs\\topics_2024\\lib\\site-packages (from llama-index-core<0.12.0,>=0.11.0->llama-index-vector-stores-qdrant) (4.12.2)\n",
      "Requirement already satisfied: typing-inspect>=0.8.0 in c:\\users\\juanc\\miniconda3\\envs\\topics_2024\\lib\\site-packages (from llama-index-core<0.12.0,>=0.11.0->llama-index-vector-stores-qdrant) (0.9.0)\n",
      "Requirement already satisfied: wrapt in c:\\users\\juanc\\miniconda3\\envs\\topics_2024\\lib\\site-packages (from llama-index-core<0.12.0,>=0.11.0->llama-index-vector-stores-qdrant) (1.16.0)\n",
      "Requirement already satisfied: grpcio-tools>=1.41.0 in c:\\users\\juanc\\miniconda3\\envs\\topics_2024\\lib\\site-packages (from qdrant-client>=1.7.1->llama-index-vector-stores-qdrant) (1.62.3)\n",
      "Requirement already satisfied: portalocker<3.0.0,>=2.7.0 in c:\\users\\juanc\\miniconda3\\envs\\topics_2024\\lib\\site-packages (from qdrant-client>=1.7.1->llama-index-vector-stores-qdrant) (2.10.1)\n",
      "Requirement already satisfied: urllib3<3,>=1.26.14 in c:\\users\\juanc\\miniconda3\\envs\\topics_2024\\lib\\site-packages (from qdrant-client>=1.7.1->llama-index-vector-stores-qdrant) (2.2.3)\n",
      "Requirement already satisfied: aiohappyeyeballs>=2.3.0 in c:\\users\\juanc\\miniconda3\\envs\\topics_2024\\lib\\site-packages (from aiohttp<4.0.0,>=3.8.6->llama-index-core<0.12.0,>=0.11.0->llama-index-vector-stores-qdrant) (2.4.3)\n",
      "Requirement already satisfied: aiosignal>=1.1.2 in c:\\users\\juanc\\miniconda3\\envs\\topics_2024\\lib\\site-packages (from aiohttp<4.0.0,>=3.8.6->llama-index-core<0.12.0,>=0.11.0->llama-index-vector-stores-qdrant) (1.3.1)\n",
      "Requirement already satisfied: attrs>=17.3.0 in c:\\users\\juanc\\miniconda3\\envs\\topics_2024\\lib\\site-packages (from aiohttp<4.0.0,>=3.8.6->llama-index-core<0.12.0,>=0.11.0->llama-index-vector-stores-qdrant) (24.2.0)\n",
      "Requirement already satisfied: frozenlist>=1.1.1 in c:\\users\\juanc\\miniconda3\\envs\\topics_2024\\lib\\site-packages (from aiohttp<4.0.0,>=3.8.6->llama-index-core<0.12.0,>=0.11.0->llama-index-vector-stores-qdrant) (1.4.1)\n",
      "Requirement already satisfied: multidict<7.0,>=4.5 in c:\\users\\juanc\\miniconda3\\envs\\topics_2024\\lib\\site-packages (from aiohttp<4.0.0,>=3.8.6->llama-index-core<0.12.0,>=0.11.0->llama-index-vector-stores-qdrant) (6.1.0)\n",
      "Requirement already satisfied: yarl<2.0,>=1.12.0 in c:\\users\\juanc\\miniconda3\\envs\\topics_2024\\lib\\site-packages (from aiohttp<4.0.0,>=3.8.6->llama-index-core<0.12.0,>=0.11.0->llama-index-vector-stores-qdrant) (1.13.1)\n",
      "Requirement already satisfied: protobuf<5.0dev,>=4.21.6 in c:\\users\\juanc\\miniconda3\\envs\\topics_2024\\lib\\site-packages (from grpcio-tools>=1.41.0->qdrant-client>=1.7.1->llama-index-vector-stores-qdrant) (4.25.5)\n",
      "Requirement already satisfied: setuptools in c:\\users\\juanc\\miniconda3\\envs\\topics_2024\\lib\\site-packages (from grpcio-tools>=1.41.0->qdrant-client>=1.7.1->llama-index-vector-stores-qdrant) (75.1.0)\n",
      "Requirement already satisfied: anyio in c:\\users\\juanc\\miniconda3\\envs\\topics_2024\\lib\\site-packages (from httpx->llama-index-core<0.12.0,>=0.11.0->llama-index-vector-stores-qdrant) (4.6.0)\n",
      "Requirement already satisfied: certifi in c:\\users\\juanc\\miniconda3\\envs\\topics_2024\\lib\\site-packages (from httpx->llama-index-core<0.12.0,>=0.11.0->llama-index-vector-stores-qdrant) (2024.8.30)\n",
      "Requirement already satisfied: httpcore==1.* in c:\\users\\juanc\\miniconda3\\envs\\topics_2024\\lib\\site-packages (from httpx->llama-index-core<0.12.0,>=0.11.0->llama-index-vector-stores-qdrant) (1.0.6)\n",
      "Requirement already satisfied: idna in c:\\users\\juanc\\miniconda3\\envs\\topics_2024\\lib\\site-packages (from httpx->llama-index-core<0.12.0,>=0.11.0->llama-index-vector-stores-qdrant) (3.10)\n",
      "Requirement already satisfied: sniffio in c:\\users\\juanc\\miniconda3\\envs\\topics_2024\\lib\\site-packages (from httpx->llama-index-core<0.12.0,>=0.11.0->llama-index-vector-stores-qdrant) (1.3.1)\n",
      "Requirement already satisfied: h11<0.15,>=0.13 in c:\\users\\juanc\\miniconda3\\envs\\topics_2024\\lib\\site-packages (from httpcore==1.*->httpx->llama-index-core<0.12.0,>=0.11.0->llama-index-vector-stores-qdrant) (0.14.0)\n",
      "Requirement already satisfied: h2<5,>=3 in c:\\users\\juanc\\miniconda3\\envs\\topics_2024\\lib\\site-packages (from httpx[http2]>=0.20.0->qdrant-client>=1.7.1->llama-index-vector-stores-qdrant) (4.1.0)\n",
      "Requirement already satisfied: click in c:\\users\\juanc\\miniconda3\\envs\\topics_2024\\lib\\site-packages (from nltk>3.8.1->llama-index-core<0.12.0,>=0.11.0->llama-index-vector-stores-qdrant) (8.1.7)\n",
      "Requirement already satisfied: joblib in c:\\users\\juanc\\miniconda3\\envs\\topics_2024\\lib\\site-packages (from nltk>3.8.1->llama-index-core<0.12.0,>=0.11.0->llama-index-vector-stores-qdrant) (1.4.2)\n",
      "Requirement already satisfied: regex>=2021.8.3 in c:\\users\\juanc\\miniconda3\\envs\\topics_2024\\lib\\site-packages (from nltk>3.8.1->llama-index-core<0.12.0,>=0.11.0->llama-index-vector-stores-qdrant) (2024.9.11)\n",
      "Requirement already satisfied: pywin32>=226 in c:\\users\\juanc\\miniconda3\\envs\\topics_2024\\lib\\site-packages (from portalocker<3.0.0,>=2.7.0->qdrant-client>=1.7.1->llama-index-vector-stores-qdrant) (307)\n",
      "Requirement already satisfied: annotated-types>=0.6.0 in c:\\users\\juanc\\miniconda3\\envs\\topics_2024\\lib\\site-packages (from pydantic<3.0.0,>=2.7.0->llama-index-core<0.12.0,>=0.11.0->llama-index-vector-stores-qdrant) (0.7.0)\n",
      "Requirement already satisfied: pydantic-core==2.23.4 in c:\\users\\juanc\\miniconda3\\envs\\topics_2024\\lib\\site-packages (from pydantic<3.0.0,>=2.7.0->llama-index-core<0.12.0,>=0.11.0->llama-index-vector-stores-qdrant) (2.23.4)\n",
      "Requirement already satisfied: charset-normalizer<4,>=2 in c:\\users\\juanc\\miniconda3\\envs\\topics_2024\\lib\\site-packages (from requests>=2.31.0->llama-index-core<0.12.0,>=0.11.0->llama-index-vector-stores-qdrant) (3.3.2)\n",
      "Requirement already satisfied: greenlet!=0.4.17 in c:\\users\\juanc\\miniconda3\\envs\\topics_2024\\lib\\site-packages (from SQLAlchemy>=1.4.49->SQLAlchemy[asyncio]>=1.4.49->llama-index-core<0.12.0,>=0.11.0->llama-index-vector-stores-qdrant) (3.1.1)\n",
      "Requirement already satisfied: colorama in c:\\users\\juanc\\miniconda3\\envs\\topics_2024\\lib\\site-packages (from tqdm<5.0.0,>=4.66.1->llama-index-core<0.12.0,>=0.11.0->llama-index-vector-stores-qdrant) (0.4.6)\n",
      "Requirement already satisfied: mypy-extensions>=0.3.0 in c:\\users\\juanc\\miniconda3\\envs\\topics_2024\\lib\\site-packages (from typing-inspect>=0.8.0->llama-index-core<0.12.0,>=0.11.0->llama-index-vector-stores-qdrant) (1.0.0)\n",
      "Requirement already satisfied: marshmallow<4.0.0,>=3.18.0 in c:\\users\\juanc\\miniconda3\\envs\\topics_2024\\lib\\site-packages (from dataclasses-json->llama-index-core<0.12.0,>=0.11.0->llama-index-vector-stores-qdrant) (3.22.0)\n",
      "Requirement already satisfied: hyperframe<7,>=6.0 in c:\\users\\juanc\\miniconda3\\envs\\topics_2024\\lib\\site-packages (from h2<5,>=3->httpx[http2]>=0.20.0->qdrant-client>=1.7.1->llama-index-vector-stores-qdrant) (6.0.1)\n",
      "Requirement already satisfied: hpack<5,>=4.0 in c:\\users\\juanc\\miniconda3\\envs\\topics_2024\\lib\\site-packages (from h2<5,>=3->httpx[http2]>=0.20.0->qdrant-client>=1.7.1->llama-index-vector-stores-qdrant) (4.0.0)\n",
      "Requirement already satisfied: packaging>=17.0 in c:\\users\\juanc\\miniconda3\\envs\\topics_2024\\lib\\site-packages (from marshmallow<4.0.0,>=3.18.0->dataclasses-json->llama-index-core<0.12.0,>=0.11.0->llama-index-vector-stores-qdrant) (24.1)\n",
      "Downloading llama_index_vector_stores_qdrant-0.3.3-py3-none-any.whl (11 kB)\n",
      "Installing collected packages: llama-index-vector-stores-qdrant\n",
      "Successfully installed llama-index-vector-stores-qdrant-0.3.3\n",
      "Note: you may need to restart the kernel to use updated packages.\n"
     ]
    },
    {
     "name": "stderr",
     "output_type": "stream",
     "text": [
      "WARNING: Ignoring invalid distribution ~orch (c:\\Users\\juanc\\miniconda3\\envs\\topics_2024\\Lib\\site-packages)\n",
      "WARNING: Ignoring invalid distribution ~orch (c:\\Users\\juanc\\miniconda3\\envs\\topics_2024\\Lib\\site-packages)\n",
      "WARNING: Ignoring invalid distribution ~orch (c:\\Users\\juanc\\miniconda3\\envs\\topics_2024\\Lib\\site-packages)\n"
     ]
    },
    {
     "name": "stdout",
     "output_type": "stream",
     "text": [
      "Requirement already satisfied: llama_index in c:\\users\\juanc\\miniconda3\\envs\\topics_2024\\lib\\site-packages (0.11.17)\n",
      "Requirement already satisfied: ftfy in c:\\users\\juanc\\miniconda3\\envs\\topics_2024\\lib\\site-packages (6.3.1)\n",
      "Requirement already satisfied: regex in c:\\users\\juanc\\miniconda3\\envs\\topics_2024\\lib\\site-packages (2024.9.11)\n",
      "Requirement already satisfied: tqdm in c:\\users\\juanc\\miniconda3\\envs\\topics_2024\\lib\\site-packages (4.66.5)\n",
      "Requirement already satisfied: llama-index-agent-openai<0.4.0,>=0.3.4 in c:\\users\\juanc\\miniconda3\\envs\\topics_2024\\lib\\site-packages (from llama_index) (0.3.4)\n",
      "Requirement already satisfied: llama-index-cli<0.4.0,>=0.3.1 in c:\\users\\juanc\\miniconda3\\envs\\topics_2024\\lib\\site-packages (from llama_index) (0.3.1)\n",
      "Requirement already satisfied: llama-index-core<0.12.0,>=0.11.17 in c:\\users\\juanc\\miniconda3\\envs\\topics_2024\\lib\\site-packages (from llama_index) (0.11.17)\n",
      "Requirement already satisfied: llama-index-embeddings-openai<0.3.0,>=0.2.4 in c:\\users\\juanc\\miniconda3\\envs\\topics_2024\\lib\\site-packages (from llama_index) (0.2.5)\n",
      "Requirement already satisfied: llama-index-indices-managed-llama-cloud>=0.3.0 in c:\\users\\juanc\\miniconda3\\envs\\topics_2024\\lib\\site-packages (from llama_index) (0.4.0)\n",
      "Requirement already satisfied: llama-index-legacy<0.10.0,>=0.9.48 in c:\\users\\juanc\\miniconda3\\envs\\topics_2024\\lib\\site-packages (from llama_index) (0.9.48.post3)\n",
      "Requirement already satisfied: llama-index-llms-openai<0.3.0,>=0.2.10 in c:\\users\\juanc\\miniconda3\\envs\\topics_2024\\lib\\site-packages (from llama_index) (0.2.13)\n",
      "Requirement already satisfied: llama-index-multi-modal-llms-openai<0.3.0,>=0.2.0 in c:\\users\\juanc\\miniconda3\\envs\\topics_2024\\lib\\site-packages (from llama_index) (0.2.2)\n",
      "Requirement already satisfied: llama-index-program-openai<0.3.0,>=0.2.0 in c:\\users\\juanc\\miniconda3\\envs\\topics_2024\\lib\\site-packages (from llama_index) (0.2.0)\n",
      "Requirement already satisfied: llama-index-question-gen-openai<0.3.0,>=0.2.0 in c:\\users\\juanc\\miniconda3\\envs\\topics_2024\\lib\\site-packages (from llama_index) (0.2.0)\n",
      "Requirement already satisfied: llama-index-readers-file<0.3.0,>=0.2.0 in c:\\users\\juanc\\miniconda3\\envs\\topics_2024\\lib\\site-packages (from llama_index) (0.2.2)\n",
      "Requirement already satisfied: llama-index-readers-llama-parse>=0.3.0 in c:\\users\\juanc\\miniconda3\\envs\\topics_2024\\lib\\site-packages (from llama_index) (0.3.0)\n",
      "Requirement already satisfied: nltk>3.8.1 in c:\\users\\juanc\\miniconda3\\envs\\topics_2024\\lib\\site-packages (from llama_index) (3.9.1)\n",
      "Requirement already satisfied: wcwidth in c:\\users\\juanc\\miniconda3\\envs\\topics_2024\\lib\\site-packages (from ftfy) (0.2.13)\n",
      "Requirement already satisfied: colorama in c:\\users\\juanc\\miniconda3\\envs\\topics_2024\\lib\\site-packages (from tqdm) (0.4.6)\n",
      "Requirement already satisfied: openai>=1.14.0 in c:\\users\\juanc\\miniconda3\\envs\\topics_2024\\lib\\site-packages (from llama-index-agent-openai<0.4.0,>=0.3.4->llama_index) (1.52.0)\n",
      "Requirement already satisfied: PyYAML>=6.0.1 in c:\\users\\juanc\\miniconda3\\envs\\topics_2024\\lib\\site-packages (from llama-index-core<0.12.0,>=0.11.17->llama_index) (6.0.2)\n",
      "Requirement already satisfied: SQLAlchemy>=1.4.49 in c:\\users\\juanc\\miniconda3\\envs\\topics_2024\\lib\\site-packages (from SQLAlchemy[asyncio]>=1.4.49->llama-index-core<0.12.0,>=0.11.17->llama_index) (2.0.35)\n",
      "Requirement already satisfied: aiohttp<4.0.0,>=3.8.6 in c:\\users\\juanc\\miniconda3\\envs\\topics_2024\\lib\\site-packages (from llama-index-core<0.12.0,>=0.11.17->llama_index) (3.10.9)\n",
      "Requirement already satisfied: dataclasses-json in c:\\users\\juanc\\miniconda3\\envs\\topics_2024\\lib\\site-packages (from llama-index-core<0.12.0,>=0.11.17->llama_index) (0.6.7)\n",
      "Requirement already satisfied: deprecated>=1.2.9.3 in c:\\users\\juanc\\miniconda3\\envs\\topics_2024\\lib\\site-packages (from llama-index-core<0.12.0,>=0.11.17->llama_index) (1.2.14)\n",
      "Requirement already satisfied: dirtyjson<2.0.0,>=1.0.8 in c:\\users\\juanc\\miniconda3\\envs\\topics_2024\\lib\\site-packages (from llama-index-core<0.12.0,>=0.11.17->llama_index) (1.0.8)\n",
      "Requirement already satisfied: fsspec>=2023.5.0 in c:\\users\\juanc\\miniconda3\\envs\\topics_2024\\lib\\site-packages (from llama-index-core<0.12.0,>=0.11.17->llama_index) (2024.9.0)\n",
      "Requirement already satisfied: httpx in c:\\users\\juanc\\miniconda3\\envs\\topics_2024\\lib\\site-packages (from llama-index-core<0.12.0,>=0.11.17->llama_index) (0.27.2)\n",
      "Requirement already satisfied: nest-asyncio<2.0.0,>=1.5.8 in c:\\users\\juanc\\miniconda3\\envs\\topics_2024\\lib\\site-packages (from llama-index-core<0.12.0,>=0.11.17->llama_index) (1.6.0)\n",
      "Requirement already satisfied: networkx>=3.0 in c:\\users\\juanc\\miniconda3\\envs\\topics_2024\\lib\\site-packages (from llama-index-core<0.12.0,>=0.11.17->llama_index) (3.3)\n",
      "Requirement already satisfied: numpy<2.0.0 in c:\\users\\juanc\\miniconda3\\envs\\topics_2024\\lib\\site-packages (from llama-index-core<0.12.0,>=0.11.17->llama_index) (1.26.4)\n",
      "Requirement already satisfied: pillow>=9.0.0 in c:\\users\\juanc\\miniconda3\\envs\\topics_2024\\lib\\site-packages (from llama-index-core<0.12.0,>=0.11.17->llama_index) (10.4.0)\n",
      "Requirement already satisfied: pydantic<3.0.0,>=2.7.0 in c:\\users\\juanc\\miniconda3\\envs\\topics_2024\\lib\\site-packages (from llama-index-core<0.12.0,>=0.11.17->llama_index) (2.9.2)\n",
      "Requirement already satisfied: requests>=2.31.0 in c:\\users\\juanc\\miniconda3\\envs\\topics_2024\\lib\\site-packages (from llama-index-core<0.12.0,>=0.11.17->llama_index) (2.32.3)\n",
      "Requirement already satisfied: tenacity!=8.4.0,<9.0.0,>=8.2.0 in c:\\users\\juanc\\miniconda3\\envs\\topics_2024\\lib\\site-packages (from llama-index-core<0.12.0,>=0.11.17->llama_index) (8.5.0)\n",
      "Requirement already satisfied: tiktoken>=0.3.3 in c:\\users\\juanc\\miniconda3\\envs\\topics_2024\\lib\\site-packages (from llama-index-core<0.12.0,>=0.11.17->llama_index) (0.7.0)\n",
      "Requirement already satisfied: typing-extensions>=4.5.0 in c:\\users\\juanc\\miniconda3\\envs\\topics_2024\\lib\\site-packages (from llama-index-core<0.12.0,>=0.11.17->llama_index) (4.12.2)\n",
      "Requirement already satisfied: typing-inspect>=0.8.0 in c:\\users\\juanc\\miniconda3\\envs\\topics_2024\\lib\\site-packages (from llama-index-core<0.12.0,>=0.11.17->llama_index) (0.9.0)\n",
      "Requirement already satisfied: wrapt in c:\\users\\juanc\\miniconda3\\envs\\topics_2024\\lib\\site-packages (from llama-index-core<0.12.0,>=0.11.17->llama_index) (1.16.0)\n",
      "Requirement already satisfied: llama-cloud>=0.0.11 in c:\\users\\juanc\\miniconda3\\envs\\topics_2024\\lib\\site-packages (from llama-index-indices-managed-llama-cloud>=0.3.0->llama_index) (0.1.2)\n",
      "Requirement already satisfied: pandas in c:\\users\\juanc\\miniconda3\\envs\\topics_2024\\lib\\site-packages (from llama-index-legacy<0.10.0,>=0.9.48->llama_index) (2.2.3)\n",
      "Requirement already satisfied: beautifulsoup4<5.0.0,>=4.12.3 in c:\\users\\juanc\\miniconda3\\envs\\topics_2024\\lib\\site-packages (from llama-index-readers-file<0.3.0,>=0.2.0->llama_index) (4.12.3)\n",
      "Collecting pypdf<5.0.0,>=4.0.1 (from llama-index-readers-file<0.3.0,>=0.2.0->llama_index)\n",
      "  Using cached pypdf-4.3.1-py3-none-any.whl.metadata (7.4 kB)\n",
      "Requirement already satisfied: striprtf<0.0.27,>=0.0.26 in c:\\users\\juanc\\miniconda3\\envs\\topics_2024\\lib\\site-packages (from llama-index-readers-file<0.3.0,>=0.2.0->llama_index) (0.0.26)\n",
      "Requirement already satisfied: llama-parse>=0.5.0 in c:\\users\\juanc\\miniconda3\\envs\\topics_2024\\lib\\site-packages (from llama-index-readers-llama-parse>=0.3.0->llama_index) (0.5.7)\n",
      "Requirement already satisfied: click in c:\\users\\juanc\\miniconda3\\envs\\topics_2024\\lib\\site-packages (from nltk>3.8.1->llama_index) (8.1.7)\n",
      "Requirement already satisfied: joblib in c:\\users\\juanc\\miniconda3\\envs\\topics_2024\\lib\\site-packages (from nltk>3.8.1->llama_index) (1.4.2)\n",
      "Requirement already satisfied: aiohappyeyeballs>=2.3.0 in c:\\users\\juanc\\miniconda3\\envs\\topics_2024\\lib\\site-packages (from aiohttp<4.0.0,>=3.8.6->llama-index-core<0.12.0,>=0.11.17->llama_index) (2.4.3)\n",
      "Requirement already satisfied: aiosignal>=1.1.2 in c:\\users\\juanc\\miniconda3\\envs\\topics_2024\\lib\\site-packages (from aiohttp<4.0.0,>=3.8.6->llama-index-core<0.12.0,>=0.11.17->llama_index) (1.3.1)\n",
      "Requirement already satisfied: attrs>=17.3.0 in c:\\users\\juanc\\miniconda3\\envs\\topics_2024\\lib\\site-packages (from aiohttp<4.0.0,>=3.8.6->llama-index-core<0.12.0,>=0.11.17->llama_index) (24.2.0)\n",
      "Requirement already satisfied: frozenlist>=1.1.1 in c:\\users\\juanc\\miniconda3\\envs\\topics_2024\\lib\\site-packages (from aiohttp<4.0.0,>=3.8.6->llama-index-core<0.12.0,>=0.11.17->llama_index) (1.4.1)\n",
      "Requirement already satisfied: multidict<7.0,>=4.5 in c:\\users\\juanc\\miniconda3\\envs\\topics_2024\\lib\\site-packages (from aiohttp<4.0.0,>=3.8.6->llama-index-core<0.12.0,>=0.11.17->llama_index) (6.1.0)\n",
      "Requirement already satisfied: yarl<2.0,>=1.12.0 in c:\\users\\juanc\\miniconda3\\envs\\topics_2024\\lib\\site-packages (from aiohttp<4.0.0,>=3.8.6->llama-index-core<0.12.0,>=0.11.17->llama_index) (1.13.1)\n",
      "Requirement already satisfied: soupsieve>1.2 in c:\\users\\juanc\\miniconda3\\envs\\topics_2024\\lib\\site-packages (from beautifulsoup4<5.0.0,>=4.12.3->llama-index-readers-file<0.3.0,>=0.2.0->llama_index) (2.6)\n",
      "Requirement already satisfied: anyio in c:\\users\\juanc\\miniconda3\\envs\\topics_2024\\lib\\site-packages (from httpx->llama-index-core<0.12.0,>=0.11.17->llama_index) (4.6.0)\n",
      "Requirement already satisfied: certifi in c:\\users\\juanc\\miniconda3\\envs\\topics_2024\\lib\\site-packages (from httpx->llama-index-core<0.12.0,>=0.11.17->llama_index) (2024.8.30)\n",
      "Requirement already satisfied: httpcore==1.* in c:\\users\\juanc\\miniconda3\\envs\\topics_2024\\lib\\site-packages (from httpx->llama-index-core<0.12.0,>=0.11.17->llama_index) (1.0.6)\n",
      "Requirement already satisfied: idna in c:\\users\\juanc\\miniconda3\\envs\\topics_2024\\lib\\site-packages (from httpx->llama-index-core<0.12.0,>=0.11.17->llama_index) (3.10)\n",
      "Requirement already satisfied: sniffio in c:\\users\\juanc\\miniconda3\\envs\\topics_2024\\lib\\site-packages (from httpx->llama-index-core<0.12.0,>=0.11.17->llama_index) (1.3.1)\n",
      "Requirement already satisfied: h11<0.15,>=0.13 in c:\\users\\juanc\\miniconda3\\envs\\topics_2024\\lib\\site-packages (from httpcore==1.*->httpx->llama-index-core<0.12.0,>=0.11.17->llama_index) (0.14.0)\n",
      "Requirement already satisfied: distro<2,>=1.7.0 in c:\\users\\juanc\\miniconda3\\envs\\topics_2024\\lib\\site-packages (from openai>=1.14.0->llama-index-agent-openai<0.4.0,>=0.3.4->llama_index) (1.9.0)\n",
      "Requirement already satisfied: jiter<1,>=0.4.0 in c:\\users\\juanc\\miniconda3\\envs\\topics_2024\\lib\\site-packages (from openai>=1.14.0->llama-index-agent-openai<0.4.0,>=0.3.4->llama_index) (0.5.0)\n",
      "Requirement already satisfied: annotated-types>=0.6.0 in c:\\users\\juanc\\miniconda3\\envs\\topics_2024\\lib\\site-packages (from pydantic<3.0.0,>=2.7.0->llama-index-core<0.12.0,>=0.11.17->llama_index) (0.7.0)\n",
      "Requirement already satisfied: pydantic-core==2.23.4 in c:\\users\\juanc\\miniconda3\\envs\\topics_2024\\lib\\site-packages (from pydantic<3.0.0,>=2.7.0->llama-index-core<0.12.0,>=0.11.17->llama_index) (2.23.4)\n",
      "Requirement already satisfied: charset-normalizer<4,>=2 in c:\\users\\juanc\\miniconda3\\envs\\topics_2024\\lib\\site-packages (from requests>=2.31.0->llama-index-core<0.12.0,>=0.11.17->llama_index) (3.3.2)\n",
      "Requirement already satisfied: urllib3<3,>=1.21.1 in c:\\users\\juanc\\miniconda3\\envs\\topics_2024\\lib\\site-packages (from requests>=2.31.0->llama-index-core<0.12.0,>=0.11.17->llama_index) (2.2.3)\n",
      "Requirement already satisfied: greenlet!=0.4.17 in c:\\users\\juanc\\miniconda3\\envs\\topics_2024\\lib\\site-packages (from SQLAlchemy>=1.4.49->SQLAlchemy[asyncio]>=1.4.49->llama-index-core<0.12.0,>=0.11.17->llama_index) (3.1.1)\n",
      "Requirement already satisfied: mypy-extensions>=0.3.0 in c:\\users\\juanc\\miniconda3\\envs\\topics_2024\\lib\\site-packages (from typing-inspect>=0.8.0->llama-index-core<0.12.0,>=0.11.17->llama_index) (1.0.0)\n",
      "Requirement already satisfied: marshmallow<4.0.0,>=3.18.0 in c:\\users\\juanc\\miniconda3\\envs\\topics_2024\\lib\\site-packages (from dataclasses-json->llama-index-core<0.12.0,>=0.11.17->llama_index) (3.22.0)\n",
      "Requirement already satisfied: python-dateutil>=2.8.2 in c:\\users\\juanc\\miniconda3\\envs\\topics_2024\\lib\\site-packages (from pandas->llama-index-legacy<0.10.0,>=0.9.48->llama_index) (2.9.0.post0)\n",
      "Requirement already satisfied: pytz>=2020.1 in c:\\users\\juanc\\miniconda3\\envs\\topics_2024\\lib\\site-packages (from pandas->llama-index-legacy<0.10.0,>=0.9.48->llama_index) (2024.2)\n",
      "Requirement already satisfied: tzdata>=2022.7 in c:\\users\\juanc\\miniconda3\\envs\\topics_2024\\lib\\site-packages (from pandas->llama-index-legacy<0.10.0,>=0.9.48->llama_index) (2024.2)\n",
      "Requirement already satisfied: packaging>=17.0 in c:\\users\\juanc\\miniconda3\\envs\\topics_2024\\lib\\site-packages (from marshmallow<4.0.0,>=3.18.0->dataclasses-json->llama-index-core<0.12.0,>=0.11.17->llama_index) (24.1)\n",
      "Requirement already satisfied: six>=1.5 in c:\\users\\juanc\\miniconda3\\envs\\topics_2024\\lib\\site-packages (from python-dateutil>=2.8.2->pandas->llama-index-legacy<0.10.0,>=0.9.48->llama_index) (1.16.0)\n",
      "Using cached pypdf-4.3.1-py3-none-any.whl (295 kB)\n",
      "Installing collected packages: pypdf\n",
      "  Attempting uninstall: pypdf\n",
      "    Found existing installation: pypdf 5.0.1\n",
      "    Uninstalling pypdf-5.0.1:\n",
      "      Successfully uninstalled pypdf-5.0.1\n",
      "Successfully installed pypdf-4.3.1\n",
      "Note: you may need to restart the kernel to use updated packages.\n"
     ]
    },
    {
     "name": "stderr",
     "output_type": "stream",
     "text": [
      "WARNING: Ignoring invalid distribution ~orch (c:\\Users\\juanc\\miniconda3\\envs\\topics_2024\\Lib\\site-packages)\n",
      "WARNING: Ignoring invalid distribution ~orch (c:\\Users\\juanc\\miniconda3\\envs\\topics_2024\\Lib\\site-packages)\n",
      "WARNING: Ignoring invalid distribution ~orch (c:\\Users\\juanc\\miniconda3\\envs\\topics_2024\\Lib\\site-packages)\n",
      "ERROR: pip's dependency resolver does not currently take into account all the packages that are installed. This behaviour is the source of the following dependency conflicts.\n",
      "embedchain 0.1.123 requires pypdf<6.0.0,>=5.0.0, but you have pypdf 4.3.1 which is incompatible.\n"
     ]
    },
    {
     "name": "stdout",
     "output_type": "stream",
     "text": [
      "Requirement already satisfied: torch in c:\\users\\juanc\\miniconda3\\envs\\topics_2024\\lib\\site-packages (2.4.1)\n",
      "Requirement already satisfied: torchvision in c:\\users\\juanc\\miniconda3\\envs\\topics_2024\\lib\\site-packages (0.19.1)\n",
      "Requirement already satisfied: filelock in c:\\users\\juanc\\miniconda3\\envs\\topics_2024\\lib\\site-packages (from torch) (3.16.1)\n",
      "Requirement already satisfied: typing-extensions>=4.8.0 in c:\\users\\juanc\\miniconda3\\envs\\topics_2024\\lib\\site-packages (from torch) (4.12.2)\n",
      "Requirement already satisfied: sympy in c:\\users\\juanc\\miniconda3\\envs\\topics_2024\\lib\\site-packages (from torch) (1.13.3)\n",
      "Requirement already satisfied: networkx in c:\\users\\juanc\\miniconda3\\envs\\topics_2024\\lib\\site-packages (from torch) (3.3)\n",
      "Requirement already satisfied: jinja2 in c:\\users\\juanc\\miniconda3\\envs\\topics_2024\\lib\\site-packages (from torch) (3.1.4)\n",
      "Requirement already satisfied: fsspec in c:\\users\\juanc\\miniconda3\\envs\\topics_2024\\lib\\site-packages (from torch) (2024.9.0)\n",
      "Requirement already satisfied: numpy in c:\\users\\juanc\\miniconda3\\envs\\topics_2024\\lib\\site-packages (from torchvision) (1.26.4)\n",
      "Requirement already satisfied: pillow!=8.3.*,>=5.3.0 in c:\\users\\juanc\\miniconda3\\envs\\topics_2024\\lib\\site-packages (from torchvision) (10.4.0)\n",
      "Requirement already satisfied: MarkupSafe>=2.0 in c:\\users\\juanc\\miniconda3\\envs\\topics_2024\\lib\\site-packages (from jinja2->torch) (2.1.5)\n",
      "Requirement already satisfied: mpmath<1.4,>=1.1.0 in c:\\users\\juanc\\miniconda3\\envs\\topics_2024\\lib\\site-packages (from sympy->torch) (1.3.0)\n",
      "Note: you may need to restart the kernel to use updated packages.\n"
     ]
    },
    {
     "name": "stderr",
     "output_type": "stream",
     "text": [
      "WARNING: Ignoring invalid distribution ~orch (c:\\Users\\juanc\\miniconda3\\envs\\topics_2024\\Lib\\site-packages)\n",
      "WARNING: Ignoring invalid distribution ~orch (c:\\Users\\juanc\\miniconda3\\envs\\topics_2024\\Lib\\site-packages)\n",
      "WARNING: Ignoring invalid distribution ~orch (c:\\Users\\juanc\\miniconda3\\envs\\topics_2024\\Lib\\site-packages)\n"
     ]
    },
    {
     "name": "stdout",
     "output_type": "stream",
     "text": [
      "Requirement already satisfied: matplotlib in c:\\users\\juanc\\miniconda3\\envs\\topics_2024\\lib\\site-packages (3.9.2)\n",
      "Collecting scikit-image\n",
      "  Downloading scikit_image-0.24.0-cp311-cp311-win_amd64.whl.metadata (14 kB)\n",
      "Requirement already satisfied: contourpy>=1.0.1 in c:\\users\\juanc\\miniconda3\\envs\\topics_2024\\lib\\site-packages (from matplotlib) (1.3.0)\n",
      "Requirement already satisfied: cycler>=0.10 in c:\\users\\juanc\\miniconda3\\envs\\topics_2024\\lib\\site-packages (from matplotlib) (0.12.1)\n",
      "Requirement already satisfied: fonttools>=4.22.0 in c:\\users\\juanc\\miniconda3\\envs\\topics_2024\\lib\\site-packages (from matplotlib) (4.54.1)\n",
      "Requirement already satisfied: kiwisolver>=1.3.1 in c:\\users\\juanc\\miniconda3\\envs\\topics_2024\\lib\\site-packages (from matplotlib) (1.4.7)\n",
      "Requirement already satisfied: numpy>=1.23 in c:\\users\\juanc\\miniconda3\\envs\\topics_2024\\lib\\site-packages (from matplotlib) (1.26.4)\n",
      "Requirement already satisfied: packaging>=20.0 in c:\\users\\juanc\\miniconda3\\envs\\topics_2024\\lib\\site-packages (from matplotlib) (24.1)\n",
      "Requirement already satisfied: pillow>=8 in c:\\users\\juanc\\miniconda3\\envs\\topics_2024\\lib\\site-packages (from matplotlib) (10.4.0)\n",
      "Requirement already satisfied: pyparsing>=2.3.1 in c:\\users\\juanc\\miniconda3\\envs\\topics_2024\\lib\\site-packages (from matplotlib) (3.1.4)\n",
      "Requirement already satisfied: python-dateutil>=2.7 in c:\\users\\juanc\\miniconda3\\envs\\topics_2024\\lib\\site-packages (from matplotlib) (2.9.0.post0)\n",
      "Requirement already satisfied: scipy>=1.9 in c:\\users\\juanc\\miniconda3\\envs\\topics_2024\\lib\\site-packages (from scikit-image) (1.14.1)\n",
      "Requirement already satisfied: networkx>=2.8 in c:\\users\\juanc\\miniconda3\\envs\\topics_2024\\lib\\site-packages (from scikit-image) (3.3)\n",
      "Collecting imageio>=2.33 (from scikit-image)\n",
      "  Downloading imageio-2.36.0-py3-none-any.whl.metadata (5.2 kB)\n",
      "Collecting tifffile>=2022.8.12 (from scikit-image)\n",
      "  Downloading tifffile-2024.9.20-py3-none-any.whl.metadata (32 kB)\n",
      "Collecting lazy-loader>=0.4 (from scikit-image)\n",
      "  Downloading lazy_loader-0.4-py3-none-any.whl.metadata (7.6 kB)\n",
      "Requirement already satisfied: six>=1.5 in c:\\users\\juanc\\miniconda3\\envs\\topics_2024\\lib\\site-packages (from python-dateutil>=2.7->matplotlib) (1.16.0)\n",
      "Downloading scikit_image-0.24.0-cp311-cp311-win_amd64.whl (12.8 MB)\n",
      "   ---------------------------------------- 0.0/12.8 MB ? eta -:--:--\n",
      "   - -------------------------------------- 0.5/12.8 MB 5.6 MB/s eta 0:00:03\n",
      "   ------- -------------------------------- 2.4/12.8 MB 6.1 MB/s eta 0:00:02\n",
      "   ---------- ----------------------------- 3.4/12.8 MB 5.9 MB/s eta 0:00:02\n",
      "   -------------- ------------------------- 4.7/12.8 MB 5.8 MB/s eta 0:00:02\n",
      "   ---------------- ----------------------- 5.2/12.8 MB 5.1 MB/s eta 0:00:02\n",
      "   ------------------- -------------------- 6.3/12.8 MB 5.1 MB/s eta 0:00:02\n",
      "   ----------------------- ---------------- 7.6/12.8 MB 5.3 MB/s eta 0:00:01\n",
      "   ---------------------------- ----------- 9.2/12.8 MB 5.4 MB/s eta 0:00:01\n",
      "   -------------------------------- ------- 10.5/12.8 MB 5.5 MB/s eta 0:00:01\n",
      "   ------------------------------------ --- 11.8/12.8 MB 5.6 MB/s eta 0:00:01\n",
      "   ---------------------------------------- 12.8/12.8 MB 5.6 MB/s eta 0:00:00\n",
      "Downloading imageio-2.36.0-py3-none-any.whl (315 kB)\n",
      "Downloading lazy_loader-0.4-py3-none-any.whl (12 kB)\n",
      "Downloading tifffile-2024.9.20-py3-none-any.whl (228 kB)\n",
      "Installing collected packages: tifffile, lazy-loader, imageio, scikit-image\n",
      "Successfully installed imageio-2.36.0 lazy-loader-0.4 scikit-image-0.24.0 tifffile-2024.9.20\n",
      "Note: you may need to restart the kernel to use updated packages.\n"
     ]
    },
    {
     "name": "stderr",
     "output_type": "stream",
     "text": [
      "WARNING: Ignoring invalid distribution ~orch (c:\\Users\\juanc\\miniconda3\\envs\\topics_2024\\Lib\\site-packages)\n",
      "WARNING: Ignoring invalid distribution ~orch (c:\\Users\\juanc\\miniconda3\\envs\\topics_2024\\Lib\\site-packages)\n",
      "WARNING: Ignoring invalid distribution ~orch (c:\\Users\\juanc\\miniconda3\\envs\\topics_2024\\Lib\\site-packages)\n"
     ]
    },
    {
     "name": "stdout",
     "output_type": "stream",
     "text": [
      "Requirement already satisfied: qdrant_client in c:\\users\\juanc\\miniconda3\\envs\\topics_2024\\lib\\site-packages (1.12.0)\n",
      "Collecting qdrant_client\n",
      "  Downloading qdrant_client-1.12.1-py3-none-any.whl.metadata (10 kB)\n",
      "Requirement already satisfied: grpcio>=1.41.0 in c:\\users\\juanc\\miniconda3\\envs\\topics_2024\\lib\\site-packages (from qdrant_client) (1.67.0)\n",
      "Requirement already satisfied: grpcio-tools>=1.41.0 in c:\\users\\juanc\\miniconda3\\envs\\topics_2024\\lib\\site-packages (from qdrant_client) (1.62.3)\n",
      "Requirement already satisfied: httpx>=0.20.0 in c:\\users\\juanc\\miniconda3\\envs\\topics_2024\\lib\\site-packages (from httpx[http2]>=0.20.0->qdrant_client) (0.27.2)\n",
      "Requirement already satisfied: numpy>=1.21 in c:\\users\\juanc\\miniconda3\\envs\\topics_2024\\lib\\site-packages (from qdrant_client) (1.26.4)\n",
      "Requirement already satisfied: portalocker<3.0.0,>=2.7.0 in c:\\users\\juanc\\miniconda3\\envs\\topics_2024\\lib\\site-packages (from qdrant_client) (2.10.1)\n",
      "Requirement already satisfied: pydantic>=1.10.8 in c:\\users\\juanc\\miniconda3\\envs\\topics_2024\\lib\\site-packages (from qdrant_client) (2.9.2)\n",
      "Requirement already satisfied: urllib3<3,>=1.26.14 in c:\\users\\juanc\\miniconda3\\envs\\topics_2024\\lib\\site-packages (from qdrant_client) (2.2.3)\n",
      "Requirement already satisfied: protobuf<5.0dev,>=4.21.6 in c:\\users\\juanc\\miniconda3\\envs\\topics_2024\\lib\\site-packages (from grpcio-tools>=1.41.0->qdrant_client) (4.25.5)\n",
      "Requirement already satisfied: setuptools in c:\\users\\juanc\\miniconda3\\envs\\topics_2024\\lib\\site-packages (from grpcio-tools>=1.41.0->qdrant_client) (75.1.0)\n",
      "Requirement already satisfied: anyio in c:\\users\\juanc\\miniconda3\\envs\\topics_2024\\lib\\site-packages (from httpx>=0.20.0->httpx[http2]>=0.20.0->qdrant_client) (4.6.0)\n",
      "Requirement already satisfied: certifi in c:\\users\\juanc\\miniconda3\\envs\\topics_2024\\lib\\site-packages (from httpx>=0.20.0->httpx[http2]>=0.20.0->qdrant_client) (2024.8.30)\n",
      "Requirement already satisfied: httpcore==1.* in c:\\users\\juanc\\miniconda3\\envs\\topics_2024\\lib\\site-packages (from httpx>=0.20.0->httpx[http2]>=0.20.0->qdrant_client) (1.0.6)\n",
      "Requirement already satisfied: idna in c:\\users\\juanc\\miniconda3\\envs\\topics_2024\\lib\\site-packages (from httpx>=0.20.0->httpx[http2]>=0.20.0->qdrant_client) (3.10)\n",
      "Requirement already satisfied: sniffio in c:\\users\\juanc\\miniconda3\\envs\\topics_2024\\lib\\site-packages (from httpx>=0.20.0->httpx[http2]>=0.20.0->qdrant_client) (1.3.1)\n",
      "Requirement already satisfied: h11<0.15,>=0.13 in c:\\users\\juanc\\miniconda3\\envs\\topics_2024\\lib\\site-packages (from httpcore==1.*->httpx>=0.20.0->httpx[http2]>=0.20.0->qdrant_client) (0.14.0)\n",
      "Requirement already satisfied: h2<5,>=3 in c:\\users\\juanc\\miniconda3\\envs\\topics_2024\\lib\\site-packages (from httpx[http2]>=0.20.0->qdrant_client) (4.1.0)\n",
      "Requirement already satisfied: pywin32>=226 in c:\\users\\juanc\\miniconda3\\envs\\topics_2024\\lib\\site-packages (from portalocker<3.0.0,>=2.7.0->qdrant_client) (307)\n",
      "Requirement already satisfied: annotated-types>=0.6.0 in c:\\users\\juanc\\miniconda3\\envs\\topics_2024\\lib\\site-packages (from pydantic>=1.10.8->qdrant_client) (0.7.0)\n",
      "Requirement already satisfied: pydantic-core==2.23.4 in c:\\users\\juanc\\miniconda3\\envs\\topics_2024\\lib\\site-packages (from pydantic>=1.10.8->qdrant_client) (2.23.4)\n",
      "Requirement already satisfied: typing-extensions>=4.6.1 in c:\\users\\juanc\\miniconda3\\envs\\topics_2024\\lib\\site-packages (from pydantic>=1.10.8->qdrant_client) (4.12.2)\n",
      "Requirement already satisfied: hyperframe<7,>=6.0 in c:\\users\\juanc\\miniconda3\\envs\\topics_2024\\lib\\site-packages (from h2<5,>=3->httpx[http2]>=0.20.0->qdrant_client) (6.0.1)\n",
      "Requirement already satisfied: hpack<5,>=4.0 in c:\\users\\juanc\\miniconda3\\envs\\topics_2024\\lib\\site-packages (from h2<5,>=3->httpx[http2]>=0.20.0->qdrant_client) (4.0.0)\n",
      "Downloading qdrant_client-1.12.1-py3-none-any.whl (267 kB)\n",
      "Installing collected packages: qdrant_client\n",
      "  Attempting uninstall: qdrant_client\n",
      "    Found existing installation: qdrant-client 1.12.0\n",
      "    Uninstalling qdrant-client-1.12.0:\n",
      "      Successfully uninstalled qdrant-client-1.12.0\n",
      "Successfully installed qdrant_client-1.12.1\n",
      "Note: you may need to restart the kernel to use updated packages.\n"
     ]
    },
    {
     "name": "stderr",
     "output_type": "stream",
     "text": [
      "WARNING: Ignoring invalid distribution ~orch (c:\\Users\\juanc\\miniconda3\\envs\\topics_2024\\Lib\\site-packages)\n",
      "WARNING: Ignoring invalid distribution ~orch (c:\\Users\\juanc\\miniconda3\\envs\\topics_2024\\Lib\\site-packages)\n",
      "WARNING: Ignoring invalid distribution ~orch (c:\\Users\\juanc\\miniconda3\\envs\\topics_2024\\Lib\\site-packages)\n"
     ]
    }
   ],
   "source": [
    "%pip install llama-index-multi-modal-llms-openai\n",
    "%pip install llama-index-vector-stores-qdrant\n",
    "%pip install llama_index ftfy regex tqdm\n",
    "%pip install torch torchvision\n",
    "%pip install matplotlib scikit-image\n",
    "%pip install -U qdrant_client"
   ]
  },
  {
   "cell_type": "code",
   "execution_count": 15,
   "metadata": {},
   "outputs": [
    {
     "name": "stdout",
     "output_type": "stream",
     "text": [
      "Collecting wget\n",
      "  Downloading wget-3.2.zip (10 kB)\n",
      "  Preparing metadata (setup.py): started\n",
      "  Preparing metadata (setup.py): finished with status 'done'\n",
      "Building wheels for collected packages: wget\n",
      "  Building wheel for wget (setup.py): started\n",
      "  Building wheel for wget (setup.py): finished with status 'done'\n",
      "  Created wheel for wget: filename=wget-3.2-py3-none-any.whl size=9680 sha256=05f02470c37f8bd11d049028e50665ced07addb2eda3ce597fb529b52e2e8d96\n",
      "  Stored in directory: c:\\users\\juanc\\appdata\\local\\pip\\cache\\wheels\\40\\b3\\0f\\a40dbd1c6861731779f62cc4babcb234387e11d697df70ee97\n",
      "Successfully built wget\n",
      "Installing collected packages: wget\n",
      "Successfully installed wget-3.2\n",
      "Note: you may need to restart the kernel to use updated packages.\n"
     ]
    },
    {
     "name": "stderr",
     "output_type": "stream",
     "text": [
      "WARNING: Ignoring invalid distribution ~orch (c:\\Users\\juanc\\miniconda3\\envs\\topics_2024\\Lib\\site-packages)\n",
      "WARNING: Ignoring invalid distribution ~orch (c:\\Users\\juanc\\miniconda3\\envs\\topics_2024\\Lib\\site-packages)\n",
      "WARNING: Ignoring invalid distribution ~orch (c:\\Users\\juanc\\miniconda3\\envs\\topics_2024\\Lib\\site-packages)\n"
     ]
    }
   ],
   "source": [
    "%pip install wget"
   ]
  },
  {
   "cell_type": "code",
   "execution_count": 4,
   "metadata": {},
   "outputs": [],
   "source": [
    "import os\n",
    "import requests\n",
    "from pathlib import Path\n",
    "import matplotlib.pyplot as plt\n",
    "from PIL import Image\n",
    "from dotenv import load_dotenv\n",
    "\n",
    "\n",
    "load_dotenv()\n",
    "\n",
    "userdata = {\n",
    "    'OPENAI_API_KEY': os.getenv('OPENAI_API_KEY'),\n",
    "}\n",
    "\n",
    "# Set your OpenAI API key\n",
    "\n",
    "\n",
    "OPENAI_API_KEY = userdata.get('OPENAI_API_KEY') #\"your_api_key_here\"\n",
    "os.environ[\"OPENAI_API_KEY\"] = OPENAI_API_KEY"
   ]
  },
  {
   "cell_type": "code",
   "execution_count": null,
   "metadata": {},
   "outputs": [
    {
     "name": "stdout",
     "output_type": "stream",
     "text": [
      "Environment prepared successfully!\n"
     ]
    }
   ],
   "source": [
    "input_image_path = Path(\"input_images\")\n",
    "data_path = Path(\"mixed_wiki\")\n",
    "\n",
    "for path in [input_image_path, data_path]:\n",
    "    if not path.exists():\n",
    "        Path.mkdir(path)\n",
    "\n",
    "print(\"Environment prepared successfully!\")"
   ]
  },
  {
   "cell_type": "code",
   "execution_count": 26,
   "metadata": {},
   "outputs": [
    {
     "data": {
      "text/plain": [
       "'C:/Users/juanc/Documents/ChuPB/Topicos IA/Finale/input_images/diagram1.png'"
      ]
     },
     "execution_count": 26,
     "metadata": {},
     "output_type": "execute_result"
    }
   ],
   "source": [
    "import wget\n",
    "\n",
    "wget.download('https://drive.usercontent.google.com/download?id=1k87DQvOVJ3HkLcmWs0kOhyyR77RGQHKC&export=download&authuser=0','C:/Users/juanc/Documents/ChuPB/Topicos IA/Finale/input_images/diagram1.png')"
   ]
  },
  {
   "cell_type": "code",
   "execution_count": 27,
   "metadata": {},
   "outputs": [
    {
     "data": {
      "image/png": "[encoded data removed]",
      "text/plain": [
       "<Figure size 1600x900 with 1 Axes>"
      ]
     },
     "metadata": {},
     "output_type": "display_data"
    }
   ],
   "source": [
    "from PIL import Image\n",
    "import matplotlib.pyplot as plt\n",
    "import os\n",
    "\n",
    "image_paths = []\n",
    "for img_path in os.listdir(\"./input_images\"):\n",
    "    image_paths.append(str(os.path.join(\"./input_images\", img_path)))\n",
    "\n",
    "\n",
    "def plot_images(image_paths):\n",
    "    images_shown = 0\n",
    "    plt.figure(figsize=(16, 9))\n",
    "    for img_path in image_paths:\n",
    "        if os.path.isfile(img_path):\n",
    "            image = Image.open(img_path)\n",
    "\n",
    "            plt.subplot(2, 3, images_shown + 1)\n",
    "            plt.imshow(image)\n",
    "            plt.xticks([])\n",
    "            plt.yticks([])\n",
    "\n",
    "            images_shown += 1\n",
    "            if images_shown >= 9:\n",
    "                break\n",
    "\n",
    "\n",
    "plot_images(image_paths)"
   ]
  },
  {
   "cell_type": "code",
   "execution_count": 28,
   "metadata": {},
   "outputs": [
    {
     "name": "stdout",
     "output_type": "stream",
     "text": [
      "This image is a data flow diagram related to a cinema system, specifically focusing on animated films. Here's a detailed description of each component:\n",
      "\n",
      "1. **Entities and Data Stores:**\n",
      "   - **Lista de cartelera:** Represents the list of movies currently showing.\n",
      "   - **Dirección:** Refers to the address of the cinema.\n",
      "   - **Nombre:** Indicates the name of the cinema.\n",
      "   - **Precio boletos:** Represents the ticket prices.\n",
      "   - **Restricción de edad:** Refers to age restrictions for viewing certain films.\n",
      "   - **Lista de cines:** Represents a list of cinemas.\n",
      "\n",
      "2. **Processes:**\n",
      "   - **Cine:** This process involves the cinema itself, which takes inputs like the movie list, address, name, and ticket prices.\n",
      "   - **Proyecta:** This decision process involves projecting a film based on availability and showtime.\n",
      "   - **Película:** This process involves the movie, considering factors like title and schedule.\n",
      "\n",
      "3. **Data Flows:**\n",
      "   - Arrows indicate the flow of information between entities, processes, and data stores. For example, information flows from \"Cine\" to \"Proyecta\" and from \"Proyecta\" to \"Película.\"\n",
      "\n",
      "4. **Decision and Output:**\n",
      "   - The diamond shape labeled \"Proyecta\" represents a decision point where availability and showtime are considered.\n",
      "   - The final output is \"Película de dibujos animados,\" indicating that the focus is on animated films.\n",
      "\n",
      "This diagram illustrates how different components interact within a cinema system to manage and project animated movies.\n"
     ]
    }
   ],
   "source": [
    "from llama_index.multi_modal_llms.openai import OpenAIMultiModal\n",
    "from llama_index.core import SimpleDirectoryReader\n",
    "\n",
    "image_documents = SimpleDirectoryReader(\"./input_images\").load_data()\n",
    "\n",
    "openai_mm_llm = OpenAIMultiModal(\n",
    "    model=\"gpt-4o\", api_key=OPENAI_API_KEY, max_new_tokens=1500\n",
    ")\n",
    "\n",
    "response_1 = openai_mm_llm.complete(\n",
    "    prompt=\"Generate detailed text description for each image.\",\n",
    "    image_documents=image_documents,\n",
    ")\n",
    "\n",
    "print(response_1)"
   ]
  },
  {
   "cell_type": "code",
   "execution_count": 31,
   "metadata": {},
   "outputs": [],
   "source": [
    "def get_wikipedia_images(title):\n",
    "    response = requests.get(\n",
    "        \"https://en.wikipedia.org/w/api.php\",\n",
    "        params={\n",
    "            \"action\": \"query\",\n",
    "            \"format\": \"json\",\n",
    "            \"titles\": title,\n",
    "            \"prop\": \"imageinfo\",\n",
    "            \"iiprop\": \"url|dimensions|mime\",\n",
    "            \"generator\": \"images\",\n",
    "            \"gimlimit\": \"50\",\n",
    "        },\n",
    "    ).json()\n",
    "    image_urls = []\n",
    "    for page in response[\"query\"][\"pages\"].values():\n",
    "        if page[\"imageinfo\"][0][\"url\"].endswith((\".jpg\", \".png\")):\n",
    "            image_urls.append(page[\"imageinfo\"][0][\"url\"])\n",
    "    return image_urls"
   ]
  },
  {
   "cell_type": "code",
   "execution_count": 39,
   "metadata": {},
   "outputs": [],
   "source": [
    "\n",
    "# List of Wikipedia titles to fetch\n",
    "wiki_titles = {\n",
    "    \"Color theory\",\n",
    "    \"Color mixing\",\n",
    "    \"Dress code\",\n",
    "    \"History of fashion design\",\n",
    "}"
   ]
  },
  {
   "cell_type": "code",
   "execution_count": 40,
   "metadata": {},
   "outputs": [
    {
     "name": "stdout",
     "output_type": "stream",
     "text": [
      "Saved content for 'Color theory'\n",
      "Saved content for 'Color mixing'\n",
      "Saved content for 'History of fashion design'\n",
      "Saved content for 'Dress code'\n",
      "Data collection completed!\n"
     ]
    }
   ],
   "source": [
    "\n",
    "# Fetch text and images\n",
    "import requests  # Ensure you import requests\n",
    "import urllib\n",
    "from pathlib import Path\n",
    "\n",
    "# Set the path to save the text files\n",
    "data_path = Path(\"data\")\n",
    "data_path.mkdir(exist_ok=True)  # Create the data directory if it doesn't exist\n",
    "\n",
    "for title in wiki_titles:\n",
    "    # Fetch text\n",
    "    response = requests.get(\n",
    "        \"https://en.wikipedia.org/w/api.php\",\n",
    "        params={\n",
    "            \"action\": \"query\",\n",
    "            \"format\": \"json\",\n",
    "            \"titles\": title,\n",
    "            \"prop\": \"extracts\",\n",
    "            \"explaintext\": True,\n",
    "        },\n",
    "    ).json()\n",
    "    \n",
    "    # Get the page content, handle cases where 'extract' might be missing\n",
    "    page = next(iter(response[\"query\"][\"pages\"].values()))\n",
    "    if \"extract\" in page:\n",
    "        wiki_text = page[\"extract\"]\n",
    "        # Save the text to a file\n",
    "        with open(data_path / f\"{title}.txt\", \"w\", encoding=\"utf-8\") as fp:\n",
    "            fp.write(wiki_text)\n",
    "        print(f\"Saved content for '{title}'\")\n",
    "    else:\n",
    "        print(f\"No extract found for '{title}'\")\n",
    "\n",
    "print(\"Data collection completed!\")\n"
   ]
  },
  {
   "cell_type": "code",
   "execution_count": 42,
   "metadata": {},
   "outputs": [
    {
     "data": {
      "text/plain": [
       "'./mixed_wiki/Color theory.html'"
      ]
     },
     "execution_count": 42,
     "metadata": {},
     "output_type": "execute_result"
    }
   ],
   "source": [
    "wget.download('https://en.wikipedia.org/wiki/Color_theory','./mixed_wiki/Color theory.html')"
   ]
  },
  {
   "cell_type": "code",
   "execution_count": 55,
   "metadata": {},
   "outputs": [
    {
     "name": "stderr",
     "output_type": "stream",
     "text": [
      "100%|███████████████████████████████████████| 338M/338M [02:47<00:00, 2.11MiB/s]\n",
      "WARNING:root:Payload indexes have no effect in the local Qdrant. Please use server Qdrant if you need payload indexes.\n"
     ]
    },
    {
     "name": "stdout",
     "output_type": "stream",
     "text": [
      "Multimodal index built successfully!\n"
     ]
    }
   ],
   "source": [
    "from llama_index.core.indices import MultiModalVectorStoreIndex\n",
    "from llama_index.vector_stores.qdrant import QdrantVectorStore\n",
    "from llama_index.core import SimpleDirectoryReader, StorageContext\n",
    "import qdrant_client\n",
    "\n",
    "# Create a local Qdrant vector store\n",
    "client = qdrant_client.QdrantClient(path=\"qdrant_mm_db3\")\n",
    "\n",
    "text_store = QdrantVectorStore(client=client, collection_name=\"text_collection\")\n",
    "image_store = QdrantVectorStore(client=client, collection_name=\"image_collection\")\n",
    "\n",
    "storage_context = StorageContext.from_defaults(\n",
    "    vector_store=text_store, image_store=image_store\n",
    ")\n",
    "\n",
    "# Create the MultiModal index\n",
    "documents = SimpleDirectoryReader(\"./mixed_wiki/\").load_data()\n",
    "index = MultiModalVectorStoreIndex.from_documents(\n",
    "    documents,\n",
    "    storage_context=storage_context,\n",
    ")\n",
    "\n",
    "print(\"Multimodal index built successfully!\")"
   ]
  },
  {
   "cell_type": "code",
   "execution_count": 63,
   "metadata": {},
   "outputs": [
    {
     "name": "stdout",
     "output_type": "stream",
     "text": [
      "Answer: The outfit described does not fit the typical casual business dress code. Casual business attire generally leans towards more neutral and subdued colors, such as navy, gray, or black, and often includes collared shirts, blouses, or sweaters paired with dress pants or skirts. The vibrant red pants and light pink polo shirt in the described outfit are more suited for a casual day out rather than a business setting. Additionally, the cropped pants and slip-on shoes contribute to a more relaxed and informal look, which is not typically appropriate for a business casual dress code.\n",
      "\n",
      "Sources:\n"
     ]
    },
    {
     "data": {
      "text/markdown": [
       "**Node ID:** 9fc8e575-25e6-49b1-8da6-291237ae75a1<br>**Similarity:** 0.7531325247753948<br>**Text:** padding:0\"><div style=\"padding:0 0.25em\">\n",
       "<ul><li><a href=\"/wiki/Hue\" title=\"Hue\">Hue</a>\n",
       "<ul><li><a href=\"/wiki/Dichromatism\" title=\"Dichromatism\">Dichromatism</a></li></ul></li>\n",
       "<li><a href=\"/wik...<br>"
      ],
      "text/plain": [
       "<IPython.core.display.Markdown object>"
      ]
     },
     "metadata": {},
     "output_type": "display_data"
    },
    {
     "data": {
      "text/markdown": [
       "**Node ID:** 5fc29017-b04e-4b1d-902d-7d561755496f<br>**Similarity:** 0.7527370414286577<br>**Text:** padding:0\"><div style=\"padding:0 0.25em\"></div><table class=\"nowraplinks navbox-subgroup\" style=\"border-spacing:0\"><tbody><tr><th scope=\"row\" class=\"navbox-group\" style=\"width:1%\"><a href=\"/wiki/Co...<br>"
      ],
      "text/plain": [
       "<IPython.core.display.Markdown object>"
      ]
     },
     "metadata": {},
     "output_type": "display_data"
    }
   ],
   "source": [
    "from llama_index.core import PromptTemplate\n",
    "from llama_index.core.query_engine import SimpleMultiModalQueryEngine\n",
    "from llama_index.core.response.notebook_utils import display_source_node\n",
    "from PIL import Image\n",
    "import io\n",
    "\n",
    "qa_tmpl_str = (\n",
    "    \"Context information is below.\\n\"\n",
    "    \"---------------------\\n\"\n",
    "    \"{context_str}\\n\"\n",
    "    \"---------------------\\n\"\n",
    "    \"Given the context information and not prior knowledge, \"\n",
    "    \"answer the query based on the image provided.\\n\"\n",
    "    \"Query: {query_str}\\n\"\n",
    "    \"Answer: \"\n",
    ")\n",
    "qa_tmpl = PromptTemplate(qa_tmpl_str)\n",
    "\n",
    "query_engine = index.as_query_engine(\n",
    "    llm=openai_mm_llm, text_qa_template=qa_tmpl\n",
    ")\n",
    "\n",
    "\n",
    "def multimodal_rag_query(query_str, image_path):\n",
    "\n",
    "    image_str = openai_mm_llm.complete(\n",
    "    prompt=\"Generate detailed text description for these images, focus on the clothing.\",\n",
    "    image_documents=SimpleDirectoryReader(\"./sample_imgs\").load_data()\n",
    ",\n",
    ")\n",
    "    \n",
    "    # Pass both the query and image data to the query engine\n",
    "    response = query_engine.query( f\"{query_str}\\n\\nImage description: {image_str}\")\n",
    "    \n",
    "    \n",
    "    # Display the answer\n",
    "    print(\"Answer:\", str(response))\n",
    "\n",
    "    # Display the sources\n",
    "    print(\"\\nSources:\")\n",
    "    for text_node in response.metadata[\"text_nodes\"]:\n",
    "        display_source_node(text_node, source_length=200)\n",
    "\n",
    "    # If images are part of the response metadata, display them\n",
    "    if response.metadata.get(\"image_nodes\"):\n",
    "        plt.figure(figsize=(15, 5))\n",
    "        for i, img_node in enumerate(response.metadata[\"image_nodes\"]):\n",
    "            img = Image.open(img_node.metadata[\"file_path\"])\n",
    "            plt.subplot(1, len(response.metadata[\"image_nodes\"]), i + 1)\n",
    "            plt.imshow(img)\n",
    "            plt.axis('off')\n",
    "        plt.show()\n",
    "\n",
    "# Example usage\n",
    "multimodal_rag_query(\"Tell me if this outfit fits casual business dress code\", image_path=\"./sample_imgs/outfit1.jpg\")"
   ]
  }
 ],
 "metadata": {
  "kernelspec": {
   "display_name": "topics_2024",
   "language": "python",
   "name": "python3"
  },
  "language_info": {
   "codemirror_mode": {
    "name": "ipython",
    "version": 3
   },
   "file_extension": ".py",
   "mimetype": "text/x-python",
   "name": "python",
   "nbconvert_exporter": "python",
   "pygments_lexer": "ipython3",
   "version": "3.11.10"
  }
 },
 "nbformat": 4,
 "nbformat_minor": 2
}
